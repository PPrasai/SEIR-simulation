{
  "nbformat": 4,
  "nbformat_minor": 0,
  "metadata": {
    "colab": {
      "name": "SEIR-intercity.ipynb",
      "provenance": [],
      "collapsed_sections": [],
      "machine_shape": "hm"
    },
    "kernelspec": {
      "display_name": "tfnightly",
      "language": "python",
      "name": "tfnightly"
    },
    "language_info": {
      "codemirror_mode": {
        "name": "ipython",
        "version": 3
      },
      "file_extension": ".py",
      "mimetype": "text/x-python",
      "name": "python",
      "nbconvert_exporter": "python",
      "pygments_lexer": "ipython3",
      "version": "3.8.5"
    },
    "accelerator": "TPU"
  },
  "cells": [
    {
      "cell_type": "markdown",
      "metadata": {
        "id": "0yETSzjhoVBN"
      },
      "source": [
        "## Overview"
      ]
    },
    {
      "cell_type": "markdown",
      "metadata": {
        "id": "HtZGdFItx4Z3"
      },
      "source": [
        "The model is a [compartmental disease model](https://en.wikipedia.org/wiki/Compartmental_models_in_epidemiology), with compartments for \"susceptible\", \"exposed\" (infected but not yet infectious), \"never-documented infectious\", and \"eventually-documented infectious\". There are two noteworthy features: separate compartments for each of 375 Chinese cities, with an assumption about how people travel from one city to another; and delays in reporting infection, so that a case that becomes \"eventually-documented infectious\" on day $t$ doesn't show up in the observed case counts until a stochastic later day.\n",
        "\n",
        "The model assumes that the never-documented cases end up undocumented by being milder, and thus infect others at a lower rate.  The main parameter of interest in the original paper is the proportion of cases that go undocumented, to estimate both the extent of existing infection, and the impact of undocumented transmission on the spread of the disease.\n",
        "\n",
        "This colab is structured as a code walkthrough in bottom-up style.  In order, we will\n",
        "- Ingest and briefly examine the data,\n",
        "- Define the state space and dynamics of the model,\n",
        "- Build up a suite of functions for doing inference in the model following Li et al, and\n",
        "- Invoke them and examine the results.  Spoiler: They come out the same as the paper.\n"
      ]
    },
    {
      "cell_type": "markdown",
      "metadata": {
        "id": "Brvp_GH-ItsG"
      },
      "source": [
        "## Installation and Python Imports"
      ]
    },
    {
      "cell_type": "code",
      "metadata": {
        "id": "_oYF_oDVYHQ0",
        "colab": {
          "base_uri": "https://localhost:8080/"
        },
        "outputId": "b4ab7fff-e309-4ec1-ce5d-da27d97fbd83"
      },
      "source": [
        "!pip3 install -q tf-nightly tfp-nightly"
      ],
      "execution_count": 2,
      "outputs": [
        {
          "output_type": "stream",
          "text": [
            "\u001b[K     |████████████████████████████████| 403.6MB 23kB/s \n",
            "\u001b[K     |████████████████████████████████| 5.0MB 55.5MB/s \n",
            "\u001b[K     |████████████████████████████████| 4.0MB 53.4MB/s \n",
            "\u001b[K     |████████████████████████████████| 4.0MB 54.5MB/s \n",
            "\u001b[K     |████████████████████████████████| 5.9MB 53.1MB/s \n",
            "\u001b[K     |████████████████████████████████| 471kB 59.0MB/s \n",
            "\u001b[31mERROR: tensorflow 2.4.1 has requirement gast==0.3.3, but you'll have gast 0.4.0 which is incompatible.\u001b[0m\n",
            "\u001b[31mERROR: tensorflow 2.4.1 has requirement grpcio~=1.32.0, but you'll have grpcio 1.34.1 which is incompatible.\u001b[0m\n",
            "\u001b[31mERROR: tensorflow 2.4.1 has requirement h5py~=2.10.0, but you'll have h5py 3.1.0 which is incompatible.\u001b[0m\n",
            "\u001b[?25h"
          ],
          "name": "stdout"
        }
      ]
    },
    {
      "cell_type": "code",
      "metadata": {
        "id": "-Za3hnj2y5M9"
      },
      "source": [
        "from __future__ import absolute_import\n",
        "from __future__ import division\n",
        "from __future__ import print_function\n",
        "\n",
        "import collections\n",
        "import io\n",
        "import requests\n",
        "import time\n",
        "import zipfile\n",
        "\n",
        "import matplotlib.pyplot as plt\n",
        "import numpy as np\n",
        "import pandas as pd\n",
        "\n",
        "import tensorflow.compat.v2 as tf\n",
        "import tensorflow_probability as tfp\n",
        "from tensorflow_probability.python.internal import samplers\n",
        "\n",
        "tfd = tfp.distributions\n",
        "tfes = tfp.experimental.sequential"
      ],
      "execution_count": 3,
      "outputs": []
    },
    {
      "cell_type": "markdown",
      "metadata": {
        "id": "KYfPl6uqzIs1"
      },
      "source": [
        "## Data Import\n",
        "\n",
        "Let's import the data from github and inspect some of it."
      ]
    },
    {
      "cell_type": "code",
      "metadata": {
        "id": "1q22N4rPzXIg"
      },
      "source": [
        "raw_incidence = pd.read_csv('drive/MyDrive/test/final/infected_data.csv')\n",
        "raw_mobility = pd.read_csv('drive/MyDrive/test/final/mobility_data.csv')\n",
        "raw_population = pd.read_csv('drive/MyDrive/test/final/population_data.csv')\n",
        "\n",
        "raw_incidence.drop('Unnamed: 0', inplace=True, axis=1)\n",
        "raw_mobility.drop('Unnamed: 0', inplace=True, axis=1)\n",
        "raw_population.drop('Unnamed: 0', inplace=True, axis=1)"
      ],
      "execution_count": 4,
      "outputs": []
    },
    {
      "cell_type": "markdown",
      "metadata": {
        "id": "IC3Nt8lJSllh"
      },
      "source": [
        "Below we can see the raw incidence count per day. We are most interested in the first 14 days (January 10th to January 23rd), as the travel restrictions were put in place on the 23rd.  The paper deals with this by modeling Jan 10-23 and Jan 23+ separately, with different parameters; we will just restrict our reproduction to the earlier period."
      ]
    },
    {
      "cell_type": "code",
      "metadata": {
        "colab": {
          "base_uri": "https://localhost:8080/",
          "height": 419
        },
        "id": "uzxY6DKXWCgo",
        "outputId": "e88036a5-bd57-4315-c1ba-5c376dfb2a34"
      },
      "source": [
        "raw_incidence = raw_incidence[:-3]\n",
        "raw_incidence"
      ],
      "execution_count": 5,
      "outputs": [
        {
          "output_type": "execute_result",
          "data": {
            "text/html": [
              "<div>\n",
              "<style scoped>\n",
              "    .dataframe tbody tr th:only-of-type {\n",
              "        vertical-align: middle;\n",
              "    }\n",
              "\n",
              "    .dataframe tbody tr th {\n",
              "        vertical-align: top;\n",
              "    }\n",
              "\n",
              "    .dataframe thead th {\n",
              "        text-align: right;\n",
              "    }\n",
              "</style>\n",
              "<table border=\"1\" class=\"dataframe\">\n",
              "  <thead>\n",
              "    <tr style=\"text-align: right;\">\n",
              "      <th></th>\n",
              "      <th>Bagmati</th>\n",
              "      <th>Gandaki</th>\n",
              "      <th>Karnali</th>\n",
              "      <th>Province 1</th>\n",
              "      <th>Province 2</th>\n",
              "      <th>Province 5</th>\n",
              "      <th>Sudurpashchim</th>\n",
              "    </tr>\n",
              "  </thead>\n",
              "  <tbody>\n",
              "    <tr>\n",
              "      <th>0</th>\n",
              "      <td>3</td>\n",
              "      <td>1</td>\n",
              "      <td>0</td>\n",
              "      <td>0</td>\n",
              "      <td>0</td>\n",
              "      <td>0</td>\n",
              "      <td>1</td>\n",
              "    </tr>\n",
              "    <tr>\n",
              "      <th>1</th>\n",
              "      <td>3</td>\n",
              "      <td>1</td>\n",
              "      <td>0</td>\n",
              "      <td>0</td>\n",
              "      <td>0</td>\n",
              "      <td>0</td>\n",
              "      <td>1</td>\n",
              "    </tr>\n",
              "    <tr>\n",
              "      <th>2</th>\n",
              "      <td>3</td>\n",
              "      <td>1</td>\n",
              "      <td>0</td>\n",
              "      <td>0</td>\n",
              "      <td>0</td>\n",
              "      <td>0</td>\n",
              "      <td>1</td>\n",
              "    </tr>\n",
              "    <tr>\n",
              "      <th>3</th>\n",
              "      <td>3</td>\n",
              "      <td>1</td>\n",
              "      <td>0</td>\n",
              "      <td>0</td>\n",
              "      <td>0</td>\n",
              "      <td>0</td>\n",
              "      <td>1</td>\n",
              "    </tr>\n",
              "    <tr>\n",
              "      <th>4</th>\n",
              "      <td>3</td>\n",
              "      <td>2</td>\n",
              "      <td>0</td>\n",
              "      <td>0</td>\n",
              "      <td>0</td>\n",
              "      <td>0</td>\n",
              "      <td>1</td>\n",
              "    </tr>\n",
              "    <tr>\n",
              "      <th>...</th>\n",
              "      <td>...</td>\n",
              "      <td>...</td>\n",
              "      <td>...</td>\n",
              "      <td>...</td>\n",
              "      <td>...</td>\n",
              "      <td>...</td>\n",
              "      <td>...</td>\n",
              "    </tr>\n",
              "    <tr>\n",
              "      <th>175</th>\n",
              "      <td>21251</td>\n",
              "      <td>3824</td>\n",
              "      <td>3196</td>\n",
              "      <td>5709</td>\n",
              "      <td>14180</td>\n",
              "      <td>9543</td>\n",
              "      <td>6419</td>\n",
              "    </tr>\n",
              "    <tr>\n",
              "      <th>176</th>\n",
              "      <td>21955</td>\n",
              "      <td>3845</td>\n",
              "      <td>3235</td>\n",
              "      <td>5831</td>\n",
              "      <td>14289</td>\n",
              "      <td>9631</td>\n",
              "      <td>6490</td>\n",
              "    </tr>\n",
              "    <tr>\n",
              "      <th>177</th>\n",
              "      <td>22683</td>\n",
              "      <td>3916</td>\n",
              "      <td>3280</td>\n",
              "      <td>5994</td>\n",
              "      <td>14372</td>\n",
              "      <td>9896</td>\n",
              "      <td>6491</td>\n",
              "    </tr>\n",
              "    <tr>\n",
              "      <th>178</th>\n",
              "      <td>23363</td>\n",
              "      <td>3973</td>\n",
              "      <td>3329</td>\n",
              "      <td>6090</td>\n",
              "      <td>14426</td>\n",
              "      <td>10071</td>\n",
              "      <td>6552</td>\n",
              "    </tr>\n",
              "    <tr>\n",
              "      <th>179</th>\n",
              "      <td>24309</td>\n",
              "      <td>4049</td>\n",
              "      <td>3338</td>\n",
              "      <td>6198</td>\n",
              "      <td>14513</td>\n",
              "      <td>10276</td>\n",
              "      <td>6618</td>\n",
              "    </tr>\n",
              "  </tbody>\n",
              "</table>\n",
              "<p>180 rows × 7 columns</p>\n",
              "</div>"
            ],
            "text/plain": [
              "     Bagmati   Gandaki   Karnali   ...  Province 2   Province 5   Sudurpashchim \n",
              "0           3         1         0  ...            0            0               1\n",
              "1           3         1         0  ...            0            0               1\n",
              "2           3         1         0  ...            0            0               1\n",
              "3           3         1         0  ...            0            0               1\n",
              "4           3         2         0  ...            0            0               1\n",
              "..        ...       ...       ...  ...          ...          ...             ...\n",
              "175     21251      3824      3196  ...        14180         9543            6419\n",
              "176     21955      3845      3235  ...        14289         9631            6490\n",
              "177     22683      3916      3280  ...        14372         9896            6491\n",
              "178     23363      3973      3329  ...        14426        10071            6552\n",
              "179     24309      4049      3338  ...        14513        10276            6618\n",
              "\n",
              "[180 rows x 7 columns]"
            ]
          },
          "metadata": {
            "tags": []
          },
          "execution_count": 5
        }
      ]
    },
    {
      "cell_type": "markdown",
      "metadata": {
        "id": "EOQn3GZ2DcKE"
      },
      "source": [
        "Let's sanity-check the `Udayapur` incidence counts."
      ]
    },
    {
      "cell_type": "code",
      "metadata": {
        "colab": {
          "base_uri": "https://localhost:8080/",
          "height": 281
        },
        "id": "S6iXSZK7Df5h",
        "outputId": "81336e96-2495-47d9-d9aa-6b3b5f82f61b"
      },
      "source": [
        "plt.plot(raw_incidence['Bagmati '], '.-')\n",
        "plt.title('Bagmati incidence counts')\n",
        "plt.show()"
      ],
      "execution_count": 6,
      "outputs": [
        {
          "output_type": "display_data",
          "data": {
            "image/png": "[encoded data removed]",
            "text/plain": [
              "<Figure size 432x288 with 1 Axes>"
            ]
          },
          "metadata": {
            "tags": [],
            "needs_background": "light"
          }
        }
      ]
    },
    {
      "cell_type": "markdown",
      "metadata": {
        "id": "4rzCbKNkMKdk"
      },
      "source": [
        "So far, so good.  Now the initial population counts."
      ]
    },
    {
      "cell_type": "code",
      "metadata": {
        "colab": {
          "base_uri": "https://localhost:8080/",
          "height": 254
        },
        "id": "P2Spczra1A7y",
        "outputId": "218ae813-7679-4528-eccb-5471ce903c04"
      },
      "source": [
        "raw_population"
      ],
      "execution_count": 7,
      "outputs": [
        {
          "output_type": "execute_result",
          "data": {
            "text/html": [
              "<div>\n",
              "<style scoped>\n",
              "    .dataframe tbody tr th:only-of-type {\n",
              "        vertical-align: middle;\n",
              "    }\n",
              "\n",
              "    .dataframe tbody tr th {\n",
              "        vertical-align: top;\n",
              "    }\n",
              "\n",
              "    .dataframe thead th {\n",
              "        text-align: right;\n",
              "    }\n",
              "</style>\n",
              "<table border=\"1\" class=\"dataframe\">\n",
              "  <thead>\n",
              "    <tr style=\"text-align: right;\">\n",
              "      <th></th>\n",
              "      <th>Province</th>\n",
              "      <th>Population</th>\n",
              "    </tr>\n",
              "  </thead>\n",
              "  <tbody>\n",
              "    <tr>\n",
              "      <th>0</th>\n",
              "      <td>Bagmati</td>\n",
              "      <td>7951221</td>\n",
              "    </tr>\n",
              "    <tr>\n",
              "      <th>1</th>\n",
              "      <td>Gandaki</td>\n",
              "      <td>1726498</td>\n",
              "    </tr>\n",
              "    <tr>\n",
              "      <th>2</th>\n",
              "      <td>Karnali</td>\n",
              "      <td>1102482</td>\n",
              "    </tr>\n",
              "    <tr>\n",
              "      <th>3</th>\n",
              "      <td>Lumbini</td>\n",
              "      <td>3877262</td>\n",
              "    </tr>\n",
              "    <tr>\n",
              "      <th>4</th>\n",
              "      <td>Province 1</td>\n",
              "      <td>6162524</td>\n",
              "    </tr>\n",
              "    <tr>\n",
              "      <th>5</th>\n",
              "      <td>Province 2</td>\n",
              "      <td>5954002</td>\n",
              "    </tr>\n",
              "    <tr>\n",
              "      <th>6</th>\n",
              "      <td>Sudurpaschim</td>\n",
              "      <td>3388864</td>\n",
              "    </tr>\n",
              "  </tbody>\n",
              "</table>\n",
              "</div>"
            ],
            "text/plain": [
              "       Province  Population\n",
              "0       Bagmati     7951221\n",
              "1       Gandaki     1726498\n",
              "2       Karnali     1102482\n",
              "3       Lumbini     3877262\n",
              "4    Province 1     6162524\n",
              "5    Province 2     5954002\n",
              "6  Sudurpaschim     3388864"
            ]
          },
          "metadata": {
            "tags": []
          },
          "execution_count": 7
        }
      ]
    },
    {
      "cell_type": "markdown",
      "metadata": {
        "id": "Xf6xLARfsBwe"
      },
      "source": [
        "Let's also check and record which entry is Bagmati."
      ]
    },
    {
      "cell_type": "code",
      "metadata": {
        "colab": {
          "base_uri": "https://localhost:8080/"
        },
        "id": "phQQFI401Pr8",
        "outputId": "90d7b3d9-5c7c-48ca-fb5b-2307e2f50557"
      },
      "source": [
        "print(raw_population['Province'][0])\r\n",
        "print(raw_population['Province'][1])\r\n",
        "print(raw_population['Province'][2])\r\n",
        "print(raw_population['Province'][3])\r\n",
        "print(raw_population['Province'][4])\r\n",
        "print(raw_population['Province'][5])\r\n",
        "print(raw_population['Province'][6])"
      ],
      "execution_count": 8,
      "outputs": [
        {
          "output_type": "stream",
          "text": [
            "Bagmati\n",
            "Gandaki\n",
            "Karnali\n",
            "Lumbini\n",
            "Province 1\n",
            "Province 2\n",
            "Sudurpaschim\n"
          ],
          "name": "stdout"
        }
      ]
    },
    {
      "cell_type": "code",
      "metadata": {
        "id": "uS5vWXkBsQLG"
      },
      "source": [
        "BAGMATI_IDX = 0\r\n",
        "GANDAKI_IDX = 1\r\n",
        "KARNALI_IDX = 2\r\n",
        "LUMBINI_IDX = 3\r\n",
        "PROVINCE_1_IDX = 4\r\n",
        "PROVINCE_2_IDX = 5\r\n",
        "SUDURPASCHIM_IDX = 6"
      ],
      "execution_count": 9,
      "outputs": []
    },
    {
      "cell_type": "code",
      "metadata": {
        "colab": {
          "base_uri": "https://localhost:8080/",
          "height": 419
        },
        "id": "BvPonRBJ1AIQ",
        "outputId": "48603850-2025-4478-87b4-819a79a8ef38"
      },
      "source": [
        "raw_mobility"
      ],
      "execution_count": 10,
      "outputs": [
        {
          "output_type": "execute_result",
          "data": {
            "text/html": [
              "<div>\n",
              "<style scoped>\n",
              "    .dataframe tbody tr th:only-of-type {\n",
              "        vertical-align: middle;\n",
              "    }\n",
              "\n",
              "    .dataframe tbody tr th {\n",
              "        vertical-align: top;\n",
              "    }\n",
              "\n",
              "    .dataframe thead th {\n",
              "        text-align: right;\n",
              "    }\n",
              "</style>\n",
              "<table border=\"1\" class=\"dataframe\">\n",
              "  <thead>\n",
              "    <tr style=\"text-align: right;\">\n",
              "      <th></th>\n",
              "      <th>Date</th>\n",
              "      <th>Origin</th>\n",
              "      <th>Destination</th>\n",
              "      <th>Mobility Index</th>\n",
              "    </tr>\n",
              "  </thead>\n",
              "  <tbody>\n",
              "    <tr>\n",
              "      <th>0</th>\n",
              "      <td>2020-03-29</td>\n",
              "      <td>Bagmati</td>\n",
              "      <td>Gandaki</td>\n",
              "      <td>7891.887430</td>\n",
              "    </tr>\n",
              "    <tr>\n",
              "      <th>1</th>\n",
              "      <td>2020-03-29</td>\n",
              "      <td>Bagmati</td>\n",
              "      <td>Karnali</td>\n",
              "      <td>1408.977400</td>\n",
              "    </tr>\n",
              "    <tr>\n",
              "      <th>2</th>\n",
              "      <td>2020-03-29</td>\n",
              "      <td>Bagmati</td>\n",
              "      <td>Lumbini</td>\n",
              "      <td>7194.266765</td>\n",
              "    </tr>\n",
              "    <tr>\n",
              "      <th>3</th>\n",
              "      <td>2020-03-29</td>\n",
              "      <td>Bagmati</td>\n",
              "      <td>Province 1</td>\n",
              "      <td>14728.329567</td>\n",
              "    </tr>\n",
              "    <tr>\n",
              "      <th>4</th>\n",
              "      <td>2020-03-29</td>\n",
              "      <td>Bagmati</td>\n",
              "      <td>Province 2</td>\n",
              "      <td>12385.299394</td>\n",
              "    </tr>\n",
              "    <tr>\n",
              "      <th>...</th>\n",
              "      <td>...</td>\n",
              "      <td>...</td>\n",
              "      <td>...</td>\n",
              "      <td>...</td>\n",
              "    </tr>\n",
              "    <tr>\n",
              "      <th>7597</th>\n",
              "      <td>2020-09-25</td>\n",
              "      <td>Sudurpaschim</td>\n",
              "      <td>Gandaki</td>\n",
              "      <td>1274.993101</td>\n",
              "    </tr>\n",
              "    <tr>\n",
              "      <th>7598</th>\n",
              "      <td>2020-09-25</td>\n",
              "      <td>Sudurpaschim</td>\n",
              "      <td>Karnali</td>\n",
              "      <td>227.205372</td>\n",
              "    </tr>\n",
              "    <tr>\n",
              "      <th>7599</th>\n",
              "      <td>2020-09-25</td>\n",
              "      <td>Sudurpaschim</td>\n",
              "      <td>Lumbini</td>\n",
              "      <td>1163.121953</td>\n",
              "    </tr>\n",
              "    <tr>\n",
              "      <th>7600</th>\n",
              "      <td>2020-09-25</td>\n",
              "      <td>Sudurpaschim</td>\n",
              "      <td>Province 1</td>\n",
              "      <td>2375.752014</td>\n",
              "    </tr>\n",
              "    <tr>\n",
              "      <th>7601</th>\n",
              "      <td>2020-09-25</td>\n",
              "      <td>Sudurpaschim</td>\n",
              "      <td>Province 2</td>\n",
              "      <td>1996.254491</td>\n",
              "    </tr>\n",
              "  </tbody>\n",
              "</table>\n",
              "<p>7602 rows × 4 columns</p>\n",
              "</div>"
            ],
            "text/plain": [
              "            Date        Origin Destination  Mobility Index\n",
              "0     2020-03-29       Bagmati     Gandaki     7891.887430\n",
              "1     2020-03-29       Bagmati     Karnali     1408.977400\n",
              "2     2020-03-29       Bagmati     Lumbini     7194.266765\n",
              "3     2020-03-29       Bagmati  Province 1    14728.329567\n",
              "4     2020-03-29       Bagmati  Province 2    12385.299394\n",
              "...          ...           ...         ...             ...\n",
              "7597  2020-09-25  Sudurpaschim     Gandaki     1274.993101\n",
              "7598  2020-09-25  Sudurpaschim     Karnali      227.205372\n",
              "7599  2020-09-25  Sudurpaschim     Lumbini     1163.121953\n",
              "7600  2020-09-25  Sudurpaschim  Province 1     2375.752014\n",
              "7601  2020-09-25  Sudurpaschim  Province 2     1996.254491\n",
              "\n",
              "[7602 rows x 4 columns]"
            ]
          },
          "metadata": {
            "tags": []
          },
          "execution_count": 10
        }
      ]
    },
    {
      "cell_type": "code",
      "metadata": {
        "id": "3lXKXtXEamD5"
      },
      "source": [
        "day_dict = {}\n",
        "counter = 1\n",
        "for d in raw_mobility.Date.unique():\n",
        "  if d not in day_dict.keys():\n",
        "    day_dict[d] = counter\n",
        "    counter += 1"
      ],
      "execution_count": 11,
      "outputs": []
    },
    {
      "cell_type": "code",
      "metadata": {
        "colab": {
          "base_uri": "https://localhost:8080/",
          "height": 419
        },
        "id": "u7eSJIaVbA9F",
        "outputId": "b00d0936-27d2-4c12-f52f-83195023c661"
      },
      "source": [
        "raw_mobility['Date'].replace(day_dict, inplace=True)\n",
        "raw_mobility.columns = ['Day', 'Origin', 'Destination', 'Mobility Index']\n",
        "raw_mobility"
      ],
      "execution_count": 12,
      "outputs": [
        {
          "output_type": "execute_result",
          "data": {
            "text/html": [
              "<div>\n",
              "<style scoped>\n",
              "    .dataframe tbody tr th:only-of-type {\n",
              "        vertical-align: middle;\n",
              "    }\n",
              "\n",
              "    .dataframe tbody tr th {\n",
              "        vertical-align: top;\n",
              "    }\n",
              "\n",
              "    .dataframe thead th {\n",
              "        text-align: right;\n",
              "    }\n",
              "</style>\n",
              "<table border=\"1\" class=\"dataframe\">\n",
              "  <thead>\n",
              "    <tr style=\"text-align: right;\">\n",
              "      <th></th>\n",
              "      <th>Day</th>\n",
              "      <th>Origin</th>\n",
              "      <th>Destination</th>\n",
              "      <th>Mobility Index</th>\n",
              "    </tr>\n",
              "  </thead>\n",
              "  <tbody>\n",
              "    <tr>\n",
              "      <th>0</th>\n",
              "      <td>1</td>\n",
              "      <td>Bagmati</td>\n",
              "      <td>Gandaki</td>\n",
              "      <td>7891.887430</td>\n",
              "    </tr>\n",
              "    <tr>\n",
              "      <th>1</th>\n",
              "      <td>1</td>\n",
              "      <td>Bagmati</td>\n",
              "      <td>Karnali</td>\n",
              "      <td>1408.977400</td>\n",
              "    </tr>\n",
              "    <tr>\n",
              "      <th>2</th>\n",
              "      <td>1</td>\n",
              "      <td>Bagmati</td>\n",
              "      <td>Lumbini</td>\n",
              "      <td>7194.266765</td>\n",
              "    </tr>\n",
              "    <tr>\n",
              "      <th>3</th>\n",
              "      <td>1</td>\n",
              "      <td>Bagmati</td>\n",
              "      <td>Province 1</td>\n",
              "      <td>14728.329567</td>\n",
              "    </tr>\n",
              "    <tr>\n",
              "      <th>4</th>\n",
              "      <td>1</td>\n",
              "      <td>Bagmati</td>\n",
              "      <td>Province 2</td>\n",
              "      <td>12385.299394</td>\n",
              "    </tr>\n",
              "    <tr>\n",
              "      <th>...</th>\n",
              "      <td>...</td>\n",
              "      <td>...</td>\n",
              "      <td>...</td>\n",
              "      <td>...</td>\n",
              "    </tr>\n",
              "    <tr>\n",
              "      <th>7597</th>\n",
              "      <td>181</td>\n",
              "      <td>Sudurpaschim</td>\n",
              "      <td>Gandaki</td>\n",
              "      <td>1274.993101</td>\n",
              "    </tr>\n",
              "    <tr>\n",
              "      <th>7598</th>\n",
              "      <td>181</td>\n",
              "      <td>Sudurpaschim</td>\n",
              "      <td>Karnali</td>\n",
              "      <td>227.205372</td>\n",
              "    </tr>\n",
              "    <tr>\n",
              "      <th>7599</th>\n",
              "      <td>181</td>\n",
              "      <td>Sudurpaschim</td>\n",
              "      <td>Lumbini</td>\n",
              "      <td>1163.121953</td>\n",
              "    </tr>\n",
              "    <tr>\n",
              "      <th>7600</th>\n",
              "      <td>181</td>\n",
              "      <td>Sudurpaschim</td>\n",
              "      <td>Province 1</td>\n",
              "      <td>2375.752014</td>\n",
              "    </tr>\n",
              "    <tr>\n",
              "      <th>7601</th>\n",
              "      <td>181</td>\n",
              "      <td>Sudurpaschim</td>\n",
              "      <td>Province 2</td>\n",
              "      <td>1996.254491</td>\n",
              "    </tr>\n",
              "  </tbody>\n",
              "</table>\n",
              "<p>7602 rows × 4 columns</p>\n",
              "</div>"
            ],
            "text/plain": [
              "      Day        Origin Destination  Mobility Index\n",
              "0       1       Bagmati     Gandaki     7891.887430\n",
              "1       1       Bagmati     Karnali     1408.977400\n",
              "2       1       Bagmati     Lumbini     7194.266765\n",
              "3       1       Bagmati  Province 1    14728.329567\n",
              "4       1       Bagmati  Province 2    12385.299394\n",
              "...   ...           ...         ...             ...\n",
              "7597  181  Sudurpaschim     Gandaki     1274.993101\n",
              "7598  181  Sudurpaschim     Karnali      227.205372\n",
              "7599  181  Sudurpaschim     Lumbini     1163.121953\n",
              "7600  181  Sudurpaschim  Province 1     2375.752014\n",
              "7601  181  Sudurpaschim  Province 2     1996.254491\n",
              "\n",
              "[7602 rows x 4 columns]"
            ]
          },
          "metadata": {
            "tags": []
          },
          "execution_count": 12
        }
      ]
    },
    {
      "cell_type": "markdown",
      "metadata": {
        "id": "vSY98S14Oaqs"
      },
      "source": [
        "Finally, let's preprocess all this into numpy arrays that we can consume."
      ]
    },
    {
      "cell_type": "code",
      "metadata": {
        "id": "9txbadTC14YP"
      },
      "source": [
        "# The given populations are only \"initial\" because of intercity mobility during\n",
        "# the holiday season.\n",
        "initial_population = raw_population['Population'].to_numpy().astype(np.float32)"
      ],
      "execution_count": 13,
      "outputs": []
    },
    {
      "cell_type": "markdown",
      "metadata": {
        "id": "w-pKDK461zFX"
      },
      "source": [
        "Convert the mobility data into an [L, L, T]-shaped Tensor, where L is the number of locations, and T is the number of timesteps."
      ]
    },
    {
      "cell_type": "code",
      "metadata": {
        "colab": {
          "base_uri": "https://localhost:8080/"
        },
        "id": "vTgrw68jZwAN",
        "outputId": "f10454e9-ca03-4658-dddd-40aab62dcd7d"
      },
      "source": [
        "raw_population.columns"
      ],
      "execution_count": 14,
      "outputs": [
        {
          "output_type": "execute_result",
          "data": {
            "text/plain": [
              "Index(['Province', 'Population'], dtype='object')"
            ]
          },
          "metadata": {
            "tags": []
          },
          "execution_count": 14
        }
      ]
    },
    {
      "cell_type": "code",
      "metadata": {
        "id": "f-2zASNxw_wi"
      },
      "source": [
        "def get_mobility_matrix(origin, end):\n",
        "    daily_mobility_matrices = []\n",
        "    for i in range(origin, end):\n",
        "      day_mobility = raw_mobility[raw_mobility['Day'] == i]\n",
        "\n",
        "      # Make a matrix of daily mobilities.\n",
        "      z = pd.crosstab(\n",
        "          day_mobility.Origin, \n",
        "          day_mobility.Destination, \n",
        "          values=day_mobility['Mobility Index'], aggfunc='sum', dropna=False)\n",
        "\n",
        "      # Include every city, even if there are no rows for some in the raw data on\n",
        "      # some day.  This uses the sort order of `raw_population`.\n",
        "      z = z.reindex(index=raw_population['Province'], columns=raw_population['Province'], \n",
        "                    fill_value=0)\n",
        "      # Finally, fill any missing entries with 0. This means no mobility.\n",
        "      z = z.fillna(0)\n",
        "      daily_mobility_matrices.append(z.to_numpy())\n",
        "\n",
        "    return np.stack(daily_mobility_matrices, axis=-1).astype(\n",
        "        np.float32)\n",
        "    \n",
        "mobility_matrix_over_time = get_mobility_matrix(1,151)"
      ],
      "execution_count": 15,
      "outputs": []
    },
    {
      "cell_type": "markdown",
      "metadata": {
        "id": "GaJYQFT91-15"
      },
      "source": [
        "Finally take the observed infections and make an [L, T] table."
      ]
    },
    {
      "cell_type": "code",
      "metadata": {
        "id": "qs4TKTnv176D"
      },
      "source": [
        "# Remove the date parameter and take the first 150 days.\n",
        "observed_daily_infectious_count = raw_incidence.to_numpy()[:150, :]\n",
        "observed_daily_infectious_count = np.transpose(\n",
        "    observed_daily_infectious_count).astype(np.float32)"
      ],
      "execution_count": 16,
      "outputs": []
    },
    {
      "cell_type": "markdown",
      "metadata": {
        "id": "B9WeGRug2HLQ"
      },
      "source": [
        "And double-check that we got the shapes the way we wanted.  As a reminder, we're working with 375 cities and 14 days."
      ]
    },
    {
      "cell_type": "code",
      "metadata": {
        "colab": {
          "base_uri": "https://localhost:8080/"
        },
        "id": "dymKgF8p1hgi",
        "outputId": "28160a1d-b8c4-4b53-883a-20d5311b05c7"
      },
      "source": [
        "print('Mobility Matrix over time should have shape (7, 7, 150): {}'.format(\n",
        "    mobility_matrix_over_time.shape))\n",
        "print('Observed Infectious should have shape (7, 150): {}'.format(\n",
        "    observed_daily_infectious_count.shape))\n",
        "print('Initial population should have shape (7): {}'.format(\n",
        "    initial_population.shape))"
      ],
      "execution_count": 17,
      "outputs": [
        {
          "output_type": "stream",
          "text": [
            "Mobility Matrix over time should have shape (7, 7, 150): (7, 7, 150)\n",
            "Observed Infectious should have shape (7, 150): (7, 150)\n",
            "Initial population should have shape (7): (7,)\n"
          ],
          "name": "stdout"
        }
      ]
    },
    {
      "cell_type": "markdown",
      "metadata": {
        "id": "LGTcVy2K2mxv"
      },
      "source": [
        "## Defining State and Parameters\n",
        "\n",
        "\n",
        "Let's start defining our model. The model we are reproducing is a variant of an [SEIR model](https://en.wikipedia.org/wiki/Compartmental_models_in_epidemiology#The_SEIR_model). In this case we have the following time-varying states:\n",
        "* $S$: Number of people susceptible to the disease in each city.\n",
        "* $E$: Number of people in each city exposed to the disease but not infectious yet.  Biologically, this corresponds to contracting the disease, in that all exposed people eventually become infectious.\n",
        "* $I^u$: Number of people in each city who are infectious but undocumented.  In the model, this actually means \"will never be documented\".\n",
        "* $I^r$: Number of people in each city who are infectious and documented as such.  Li et al model reporting delays, so $I^r$ actually corresponds to something like \"case is severe enough to be documented at some point in the future\".\n",
        "\n",
        "As we will see below, we will be inferring these states by running an Ensemble-adjusted Kalman Filter (EAKF) forward in time.  The state vector of the EAKF is one city-indexed vector for each of these quantities.\n",
        "\n",
        "The model has the following inferrable global, time-invariant parameters:\n",
        "\n",
        "* $\\beta$: The transmission rate due to documented-infectious individuals.\n",
        "* $\\mu$: The relative transmission rate due to undocumented-infectious\n",
        "  individuals. This will act through the product $\\mu \\beta$.\n",
        "* $\\theta$: The intercity mobility factor. This is a factor greater than\n",
        "  1 correcting for underreporting of mobility data (and for population growth\n",
        "  from 2018 to 2020).\n",
        "* $Z$: The average incubation period (i.e., time in the \"exposed\" state).\n",
        "* $\\alpha$: This is the fraction of infections severe enough to be (eventually) documented.\n",
        "* $D$: The average duration of infections (i.e., time in either \"infectious\" state).\n",
        "\n",
        "We will be inferring point estimates for these parameters with an Iterative-Filtering loop around the EAKF for the states.\n",
        "\n",
        "The model also depends on un-inferred constants:\n",
        "* $M$: The intercity mobility matrix.  This is time-varying and presumed given.  Recall that it's scaled by the inferred parameter $\\theta$ to give the actual population movements between cities.\n",
        "* $N$: The total number of people in each city.  The initial populations are taken as given, and the time-variation of population is computed from the mobility numbers $\\theta M$.\n"
      ]
    },
    {
      "cell_type": "markdown",
      "metadata": {
        "id": "--4jYF-Q9maG"
      },
      "source": [
        "First, we give ourselves some data structures for holding our states and parameters.\n"
      ]
    },
    {
      "cell_type": "code",
      "metadata": {
        "id": "VacihFdC25l4"
      },
      "source": [
        "SEIRComponents = collections.namedtuple(\n",
        "  typename='SEIRComponents',\n",
        "  field_names=[\n",
        "    'susceptible',              # S\n",
        "    'exposed',                  # E\n",
        "    'documented_infectious',    # I^r\n",
        "    'undocumented_infectious',  # I^u\n",
        "    # This is the count of new cases in the \"documented infectious\" compartment.\n",
        "    # We need this because we will introduce a reporting delay, between a person\n",
        "    # entering I^r and showing up in the observable case count data.\n",
        "    # This can't be computed from the cumulative `documented_infectious` count,\n",
        "    # because some portion of that population will move to the 'recovered'\n",
        "    # state, which we aren't tracking explicitly.\n",
        "    'daily_new_documented_infectious'])\n",
        "\n",
        "ModelParams = collections.namedtuple(\n",
        "    typename='ModelParams',\n",
        "    field_names=[\n",
        "      'documented_infectious_tx_rate',             # Beta\n",
        "      'undocumented_infectious_tx_relative_rate',  # Mu\n",
        "      'intercity_underreporting_factor',           # Theta\n",
        "      'average_latency_period',                    # Z\n",
        "      'fraction_of_documented_infections',         # Alpha\n",
        "      'average_infection_duration'                 # D\n",
        "    ]\n",
        ")"
      ],
      "execution_count": 18,
      "outputs": []
    },
    {
      "cell_type": "markdown",
      "metadata": {
        "id": "kBgUMzTL_2gc"
      },
      "source": [
        "We also code Li et al's bounds for the values of the parameters."
      ]
    },
    {
      "cell_type": "code",
      "metadata": {
        "id": "H_HWdcXZ_1Cw"
      },
      "source": [
        "PARAMETER_LOWER_BOUNDS = ModelParams(\n",
        "    documented_infectious_tx_rate=0.8,\n",
        "    undocumented_infectious_tx_relative_rate=0.2,\n",
        "    intercity_underreporting_factor=1.,\n",
        "    average_latency_period=2.,\n",
        "    fraction_of_documented_infections=0.02,\n",
        "    average_infection_duration=2.\n",
        ")\n",
        "\n",
        "PARAMETER_UPPER_BOUNDS = ModelParams(\n",
        "    documented_infectious_tx_rate=1.5,\n",
        "    undocumented_infectious_tx_relative_rate=1.,\n",
        "    intercity_underreporting_factor=1.75,\n",
        "    average_latency_period=5.,\n",
        "    fraction_of_documented_infections=1.,\n",
        "    average_infection_duration=5.\n",
        ")"
      ],
      "execution_count": 19,
      "outputs": []
    },
    {
      "cell_type": "markdown",
      "metadata": {
        "id": "-yizvLfw-CiT"
      },
      "source": [
        "## SEIR Dynamics\n",
        "\n",
        "Here we define the relationship between the parameters and state.\n",
        "\n",
        "The time-dynamics equations from Li et al (supplemental material, eqns 1-5) are as follows:\n",
        "\n",
        "$\\frac{dS_i}{dt} = -\\beta \\frac{S_i I_i^r}{N_i} - \\mu \\beta \\frac{S_i I_i^u}{N_i} + \\theta \\sum_k \\frac{M_{ij} S_j}{N_j - I_j^r} - + \\theta \\sum_k \\frac{M_{ji} S_j}{N_i - I_i^r}$\n",
        "\n",
        "$\\frac{dE_i}{dt} = \\beta \\frac{S_i I_i^r}{N_i} + \\mu \\beta \\frac{S_i I_i^u}{N_i} -\\frac{E_i}{Z} + \\theta \\sum_k \\frac{M_{ij} E_j}{N_j - I_j^r} - + \\theta \\sum_k \\frac{M_{ji} E_j}{N_i - I_i^r}$\n",
        "\n",
        "$\\frac{dI^r_i}{dt} = \\alpha \\frac{E_i}{Z} - \\frac{I_i^r}{D}$\n",
        "\n",
        "$\\frac{dI^u_i}{dt} = (1 - \\alpha) \\frac{E_i}{Z} - \\frac{I_i^u}{D} + \\theta \\sum_k \\frac{M_{ij} I_j^u}{N_j - I_j^r} - + \\theta \\sum_k \\frac{M_{ji} I^u_j}{N_i - I_i^r}$\n",
        "\n",
        "$N_i = N_i + \\theta \\sum_j M_{ij} - \\theta \\sum_j M_{ji}$\n",
        "\n",
        "As a reminder, the $i$ and $j$ subscripts index cities.  These equations model the time-evolution of the disease through\n",
        "- Contact with infectious individuals leading to more infection;\n",
        "- Disease progression from \"exposed\" to one of the \"infectious\" states;\n",
        "- Disease progression from \"infectious\" states to recovery, which we model by removal from the modeled population;\n",
        "- Inter-city mobility, including exposed or undocumented-infectious persons; and\n",
        "- Time-variation of daily city populations through inter-city mobility.\n",
        "\n",
        "Following Li et al, we assume that people with cases severe enough to eventually be reported do not travel between cities.\n",
        "\n",
        "Also following Li et al, we treat these dynamics as subject to term-wise Poisson noise, i.e., each term is actually the rate of a Poisson, a sample from which gives the true change.  The Poisson noise is term-wise because subtracting (as opposed to adding) Poisson samples does not yield a Poisson-distributed result.\n",
        "\n",
        "We will evolve these dynamics forward in time with the classic fourth-order Runge-Kutta integrator, but first let's define the function that computes them (including sampling the Poisson noise)."
      ]
    },
    {
      "cell_type": "code",
      "metadata": {
        "id": "_Cpj5Lyo-AGw"
      },
      "source": [
        "def sample_state_deltas(\n",
        "    state, population, mobility_matrix, params, seed, is_deterministic=False):\n",
        "  \"\"\"Computes one-step change in state, including Poisson sampling.\n",
        "  \n",
        "  Note that this is coded to support vectorized evaluation on arbitrary-shape\n",
        "  batches of states.  This is useful, for example, for running multiple\n",
        "  independent replicas of this model to compute credible intervals for the\n",
        "  parameters.  We refer to the arbitrary batch shape with the conventional\n",
        "  `B` in the parameter documentation below.  This function also, of course,\n",
        "  supports broadcasting over the batch shape.\n",
        "\n",
        "  Args:\n",
        "    state: A `SEIRComponents` tuple with fields Tensors of shape\n",
        "      B + [num_locations] giving the current disease state.\n",
        "    population: A Tensor of shape B + [num_locations] giving the current city\n",
        "      populations.\n",
        "    mobility_matrix: A Tensor of shape B + [num_locations, num_locations] giving\n",
        "      the current baseline inter-city mobility.\n",
        "    params: A `ModelParams` tuple with fields Tensors of shape B giving the\n",
        "      global parameters for the current EAKF run.\n",
        "    seed: Initial entropy for pseudo-random number generation.  The Poisson\n",
        "      sampling is repeatable by supplying the same seed.\n",
        "    is_deterministic: A `bool` flag to turn off Poisson sampling if desired.\n",
        "\n",
        "  Returns:\n",
        "    delta: A `SEIRComponents` tuple with fields Tensors of shape\n",
        "      B + [num_locations] giving the one-day changes in the state, according\n",
        "      to equations 1-4 above (including Poisson noise per Li et al).\n",
        "  \"\"\"\n",
        "  undocumented_infectious_fraction = state.undocumented_infectious / population\n",
        "  documented_infectious_fraction = state.documented_infectious / population\n",
        "\n",
        "  # Anyone not documented as infectious is considered mobile\n",
        "  mobile_population = (population - state.documented_infectious)\n",
        "  def compute_outflow(compartment_population):\n",
        "    raw_mobility = tf.linalg.matvec(\n",
        "        mobility_matrix, compartment_population / mobile_population)\n",
        "    return params.intercity_underreporting_factor * raw_mobility\n",
        "  def compute_inflow(compartment_population):\n",
        "    raw_mobility = tf.linalg.matmul(\n",
        "        mobility_matrix,\n",
        "        (compartment_population / mobile_population)[..., tf.newaxis],\n",
        "        transpose_a=True)\n",
        "    return params.intercity_underreporting_factor * tf.squeeze(\n",
        "        raw_mobility, axis=-1)\n",
        "\n",
        "  # Helper for sampling the Poisson-variate terms.\n",
        "  seeds = samplers.split_seed(seed, n=11)\n",
        "  if is_deterministic:\n",
        "    def sample_poisson(rate):\n",
        "      return rate\n",
        "  else:\n",
        "    def sample_poisson(rate):\n",
        "      return tfd.Poisson(rate=rate).sample(seed=seeds.pop())\n",
        "\n",
        "  # Below are the various terms called U1-U12 in the paper. We combined the\n",
        "  # first two, which should be fine; both are poisson so their sum is too, and\n",
        "  # there's no risk (as there could be in other terms) of going negative.\n",
        "  susceptible_becoming_exposed = sample_poisson(\n",
        "      state.susceptible *\n",
        "      (params.documented_infectious_tx_rate *\n",
        "       documented_infectious_fraction +\n",
        "       (params.undocumented_infectious_tx_relative_rate *\n",
        "        params.documented_infectious_tx_rate) *\n",
        "       undocumented_infectious_fraction))  # U1 + U2\n",
        "\n",
        "  susceptible_population_inflow = sample_poisson(\n",
        "      compute_inflow(state.susceptible))  # U3\n",
        "  susceptible_population_outflow = sample_poisson(\n",
        "      compute_outflow(state.susceptible))  # U4\n",
        "\n",
        "  exposed_becoming_documented_infectious = sample_poisson(\n",
        "      params.fraction_of_documented_infections *\n",
        "      state.exposed / params.average_latency_period)  # U5\n",
        "  exposed_becoming_undocumented_infectious = sample_poisson(\n",
        "      (1 - params.fraction_of_documented_infections) *\n",
        "      state.exposed / params.average_latency_period)  # U6\n",
        "\n",
        "  exposed_population_inflow = sample_poisson(\n",
        "      compute_inflow(state.exposed))  # U7\n",
        "  exposed_population_outflow = sample_poisson(\n",
        "      compute_outflow(state.exposed))  # U8\n",
        "\n",
        "  documented_infectious_becoming_recovered = sample_poisson(\n",
        "      state.documented_infectious /\n",
        "      params.average_infection_duration)  # U9\n",
        "  undocumented_infectious_becoming_recovered = sample_poisson(\n",
        "      state.undocumented_infectious /\n",
        "      params.average_infection_duration)  # U10\n",
        "\n",
        "  undocumented_infectious_population_inflow = sample_poisson(\n",
        "      compute_inflow(state.undocumented_infectious))  # U11\n",
        "  undocumented_infectious_population_outflow = sample_poisson(\n",
        "      compute_outflow(state.undocumented_infectious))  # U12\n",
        "\n",
        "  # The final state_deltas\n",
        "  return SEIRComponents(\n",
        "      # Equation [1]\n",
        "      susceptible=(-susceptible_becoming_exposed +\n",
        "                   susceptible_population_inflow +\n",
        "                   -susceptible_population_outflow),\n",
        "      # Equation [2]\n",
        "      exposed=(susceptible_becoming_exposed +\n",
        "               -exposed_becoming_documented_infectious +\n",
        "               -exposed_becoming_undocumented_infectious +\n",
        "               exposed_population_inflow +\n",
        "               -exposed_population_outflow),\n",
        "      # Equation [3]\n",
        "      documented_infectious=(\n",
        "          exposed_becoming_documented_infectious +\n",
        "          -documented_infectious_becoming_recovered),\n",
        "      # Equation [4]\n",
        "      undocumented_infectious=(\n",
        "          exposed_becoming_undocumented_infectious +\n",
        "          -undocumented_infectious_becoming_recovered +\n",
        "          undocumented_infectious_population_inflow +\n",
        "          -undocumented_infectious_population_outflow),\n",
        "      # New to-be-documented infectious cases, subject to the delayed\n",
        "      # observation model.\n",
        "      daily_new_documented_infectious=exposed_becoming_documented_infectious)"
      ],
      "execution_count": 20,
      "outputs": []
    },
    {
      "cell_type": "markdown",
      "metadata": {
        "id": "K7T_QQTRKqOE"
      },
      "source": [
        "Here's the integrator.  This is completely standard, except for passing the PRNG seed through to the `sample_state_deltas` function to get independent Poisson noise at each of the partial steps that the Runge-Kutta method calls for."
      ]
    },
    {
      "cell_type": "code",
      "metadata": {
        "id": "2qx4tX8sCAZv"
      },
      "source": [
        "@tf.function(autograph=False)\n",
        "def rk4_one_step(state, population, mobility_matrix, params, seed):\n",
        "  \"\"\"Implement one step of RK4, wrapped around a call to sample_state_deltas.\"\"\"\n",
        "  # One seed for each RK sub-step\n",
        "  seeds = samplers.split_seed(seed, n=4)\n",
        "\n",
        "  deltas = tf.nest.map_structure(tf.zeros_like, state)\n",
        "  combined_deltas = tf.nest.map_structure(tf.zeros_like, state)\n",
        "\n",
        "  for a, b in zip([1., 2, 2, 1.], [6., 3., 3., 6.]):\n",
        "    next_input = tf.nest.map_structure(\n",
        "        lambda x, delta, a=a: x + delta / a, state, deltas)\n",
        "    deltas = sample_state_deltas(\n",
        "        next_input,\n",
        "        population,\n",
        "        mobility_matrix,\n",
        "        params,\n",
        "        seed=seeds.pop(), is_deterministic=False)\n",
        "    combined_deltas = tf.nest.map_structure(\n",
        "        lambda x, delta, b=b: x + delta / b, combined_deltas, deltas)\n",
        "\n",
        "  return tf.nest.map_structure(\n",
        "      lambda s, delta: s + tf.round(delta),\n",
        "      state, combined_deltas)"
      ],
      "execution_count": 21,
      "outputs": []
    },
    {
      "cell_type": "markdown",
      "metadata": {
        "id": "3gVKuTqi32Bn"
      },
      "source": [
        "## Initialization\n",
        "  \n",
        "Here we implement the initialization scheme from the paper.\n",
        "\n",
        "Following Li et al, our inference scheme will be an ensemble adjustment Kalman filter inner loop, surrounded by an iterated filtering outer loop (IF-EAKF).  Computationally, that means we need three kinds of initialization:\n",
        "- Initial state for the inner EAKF\n",
        "- Initial parameters for the outer IF, which are also the initial\n",
        "  parameters for the first EAKF\n",
        "- Updating parameters from one IF iteration to the next, which serve\n",
        "  as the initial parameters for each EAKF other than the first.\n",
        "\n"
      ]
    },
    {
      "cell_type": "code",
      "metadata": {
        "colab": {
          "base_uri": "https://localhost:8080/"
        },
        "id": "pSAbu5XzMkqb",
        "outputId": "e4899c49-1c9a-4481-f18b-c58526889900"
      },
      "source": [
        "raw_incidence.to_numpy()[150, :]"
      ],
      "execution_count": 22,
      "outputs": [
        {
          "output_type": "execute_result",
          "data": {
            "text/plain": [
              "array([5713, 2143, 2431, 2928, 9918, 6081, 5204])"
            ]
          },
          "metadata": {
            "tags": []
          },
          "execution_count": 22
        }
      ]
    },
    {
      "cell_type": "code",
      "metadata": {
        "id": "esBFeZ9XHnkm"
      },
      "source": [
        "def initialize_state(num_particles, num_batches, seed):\r\n",
        "  \"\"\"Initialize the state for a batch of EAKF runs.\r\n",
        "  \r\n",
        "  Args:\r\n",
        "    num_particles: `int` giving the number of particles for the EAKF.\r\n",
        "    num_batches: `int` giving the number of independent EAKF runs to\r\n",
        "      initialize in a vectorized batch.\r\n",
        "    seed: PRNG entropy.\r\n",
        "    \r\n",
        "  Returns:\r\n",
        "    state: A `SEIRComponents` tuple with Tensors of shape [num_particles,\r\n",
        "      num_batches, num_cities] giving the initial conditions in each\r\n",
        "      city, in each filter particle, in each batch member.\r\n",
        "  \"\"\"\r\n",
        "  num_cities = mobility_matrix_over_time.shape[-2]\r\n",
        "  state_shape = [num_particles, num_batches, num_cities]\r\n",
        "  susceptible = initial_population * np.ones(state_shape, dtype=np.float32)\r\n",
        "  documented_infectious = np.zeros(state_shape, dtype=np.float32)\r\n",
        "  daily_new_documented_infectious = np.zeros(state_shape, dtype=np.float32)\r\n",
        "\r\n",
        "  incidence_count_on_150th_day = raw_incidence.to_numpy()[150, :]\r\n",
        "\r\n",
        "  p_shape = np.ones([num_particles, num_batches])\r\n",
        "\r\n",
        "  rng = np.random.RandomState(seed[0] % (2**31 - 1))\r\n",
        "  # bagmati_exposed = rng.randint(\r\n",
        "  #     0, incidence_count_on_150th_day[BAGMATI_IDX], [num_particles, num_batches]).astype(np.float32)\r\n",
        "  bagmati_exposed = (incidence_count_on_150th_day[0] * p_shape) + rng.randint(-50, 50, p_shape.shape)\r\n",
        "  print(\"=\"*50)\r\n",
        "  print(bagmati_exposed.shape)\r\n",
        "\r\n",
        "  bagmati_undocumented_infectious = rng.randint(\r\n",
        "      0, 5, [num_particles, num_batches]).astype(np.float32)\r\n",
        "  # gandaki_exposed = rng.randint(\r\n",
        "  #     0, incidence_count_on_150th_day[GANDAKI_IDX], [num_particles, num_batches]).astype(np.float32)\r\n",
        "  gandaki_exposed = (incidence_count_on_150th_day[1] * p_shape) + rng.randint(-50, 50, p_shape.shape)\r\n",
        "  print(\"=\"*50)\r\n",
        "  print(gandaki_exposed.shape)\r\n",
        "\r\n",
        "  gandaki_undocumented_infectious = rng.randint(\r\n",
        "      0, 5, [num_particles, num_batches]).astype(np.float32)\r\n",
        "  # lumbini_exposed = rng.randint(\r\n",
        "  #     0, incidence_count_on_150th_day[LUMBINI_IDX], [num_particles, num_batches]).astype(np.float32)\r\n",
        "  lumbini_exposed = (incidence_count_on_150th_day[2] * p_shape) + rng.randint(-50, 50, p_shape.shape)\r\n",
        "  print(\"=\"*50)\r\n",
        "  print(bagmati_exposed.shape)\r\n",
        "\r\n",
        "  lumbini_undocumented_infectious = rng.randint(\r\n",
        "      0, 5, [num_particles, num_batches]).astype(np.float32)\r\n",
        "  # karnali_exposed = rng.randint(\r\n",
        "  #     0, incidence_count_on_150th_day[KARNALI_IDX], [num_particles, num_batches]).astype(np.float32)\r\n",
        "  karnali_exposed = (incidence_count_on_150th_day[3] * p_shape) + rng.randint(-50, 50, p_shape.shape)\r\n",
        "  karnali_undocumented_infectious = rng.randint(\r\n",
        "      0, 5, [num_particles, num_batches]).astype(np.float32)\r\n",
        "  # province_1_exposed = rng.randint(\r\n",
        "  #     0, incidence_count_on_150th_day[PROVINCE_1_IDX], [num_particles, num_batches]).astype(np.float32)\r\n",
        "  province_1_exposed = (incidence_count_on_150th_day[4] * p_shape) + rng.randint(-50, 50, p_shape.shape)\r\n",
        "  province_1_undocumented_infectious = rng.randint(\r\n",
        "      0, 5, [num_particles, num_batches]).astype(np.float32)\r\n",
        "  # province_2_exposed = rng.randint(\r\n",
        "  #     0, incidence_count_on_150th_day[PROVINCE_2_IDX], [num_particles, num_batches]).astype(np.float32)\r\n",
        "  province_2_exposed = (incidence_count_on_150th_day[5] * p_shape) + rng.randint(-50, 50, p_shape.shape)\r\n",
        "  province_2_undocumented_infectious = rng.randint(\r\n",
        "      0, 5, [num_particles, num_batches]).astype(np.float32)\r\n",
        "  # sudurpaschim_exposed = rng.randint(\r\n",
        "  #     0, incidence_count_on_150th_day[SUDURPASCHIM_IDX], [num_particles, num_batches]).astype(np.float32)\r\n",
        "  sudurpaschim_exposed = (incidence_count_on_150th_day[6] * p_shape) + rng.randint(-50, 50, p_shape.shape)\r\n",
        "  sudurpaschim_undocumented_infectious = rng.randint(\r\n",
        "      0, 5, [num_particles, num_batches]).astype(np.float32)\r\n",
        " \r\n",
        "  # Also following Li et al, initialize cities adjacent to Wuhan with three\r\n",
        "  # days' worth of additional exposed and undocumented-infectious cases,\r\n",
        "  # as they may have traveled there before the beginning of the modeling\r\n",
        "  # period.\r\n",
        "\r\n",
        "  exposed = 3 * mobility_matrix_over_time[\r\n",
        "      BAGMATI_IDX, :, 0] * bagmati_exposed[\r\n",
        "          ..., np.newaxis] / initial_population[BAGMATI_IDX]\r\n",
        "\r\n",
        "  exposed += 3 * mobility_matrix_over_time[\r\n",
        "      KARNALI_IDX, :, 0] * karnali_exposed[\r\n",
        "          ..., np.newaxis] / initial_population[KARNALI_IDX]\r\n",
        "\r\n",
        "  exposed += 3 * mobility_matrix_over_time[\r\n",
        "      GANDAKI_IDX, :, 0] * gandaki_exposed[\r\n",
        "          ..., np.newaxis] / initial_population[GANDAKI_IDX]\r\n",
        "\r\n",
        "  exposed += 3 * mobility_matrix_over_time[\r\n",
        "      LUMBINI_IDX, :, 0] * lumbini_exposed[\r\n",
        "          ..., np.newaxis] / initial_population[LUMBINI_IDX]\r\n",
        "\r\n",
        "  exposed += 3 * mobility_matrix_over_time[\r\n",
        "      PROVINCE_1_IDX, :, 0] * province_1_exposed[\r\n",
        "          ..., np.newaxis] / initial_population[PROVINCE_1_IDX]\r\n",
        "\r\n",
        "  exposed += 3 * mobility_matrix_over_time[\r\n",
        "      PROVINCE_2_IDX, :, 0] * province_2_exposed[\r\n",
        "          ..., np.newaxis] / initial_population[PROVINCE_2_IDX]\r\n",
        "\r\n",
        "  exposed += 3 * mobility_matrix_over_time[\r\n",
        "      SUDURPASCHIM_IDX, :, 0] * sudurpaschim_exposed[\r\n",
        "          ..., np.newaxis] / initial_population[SUDURPASCHIM_IDX]\r\n",
        "\r\n",
        "  \r\n",
        "  undocumented_infectious = 3 * mobility_matrix_over_time[\r\n",
        "      BAGMATI_IDX, :, 0] * bagmati_undocumented_infectious[\r\n",
        "          ..., np.newaxis] / initial_population[BAGMATI_IDX]\r\n",
        "\r\n",
        "  undocumented_infectious+= 3 * mobility_matrix_over_time[\r\n",
        "      KARNALI_IDX, :, 0] * karnali_undocumented_infectious[\r\n",
        "          ..., np.newaxis] / initial_population[KARNALI_IDX]\r\n",
        "\r\n",
        "  undocumented_infectious += 3 * mobility_matrix_over_time[\r\n",
        "      GANDAKI_IDX, :, 0] * gandaki_undocumented_infectious[\r\n",
        "          ..., np.newaxis] / initial_population[GANDAKI_IDX]\r\n",
        "\r\n",
        "  undocumented_infectious += 3 * mobility_matrix_over_time[\r\n",
        "      LUMBINI_IDX, :, 0] * lumbini_undocumented_infectious[\r\n",
        "          ..., np.newaxis] / initial_population[LUMBINI_IDX]\r\n",
        "\r\n",
        "  undocumented_infectious += 3 * mobility_matrix_over_time[\r\n",
        "      PROVINCE_1_IDX, :, 0] * province_1_undocumented_infectious[\r\n",
        "          ..., np.newaxis] / initial_population[PROVINCE_1_IDX]\r\n",
        "\r\n",
        "  undocumented_infectious += 3 * mobility_matrix_over_time[\r\n",
        "      PROVINCE_2_IDX, :, 0] * province_2_undocumented_infectious[\r\n",
        "          ..., np.newaxis] / initial_population[PROVINCE_2_IDX]\r\n",
        "\r\n",
        "  undocumented_infectious += 3 * mobility_matrix_over_time[\r\n",
        "      SUDURPASCHIM_IDX, :, 0] * sudurpaschim_undocumented_infectious[\r\n",
        "          ..., np.newaxis] / initial_population[SUDURPASCHIM_IDX]\r\n",
        "\r\n",
        "  \r\n",
        "  exposed[..., BAGMATI_IDX] = bagmati_exposed\r\n",
        "  undocumented_infectious[..., BAGMATI_IDX] = bagmati_undocumented_infectious\r\n",
        "\r\n",
        "  exposed[..., KARNALI_IDX] = karnali_exposed\r\n",
        "  undocumented_infectious[..., KARNALI_IDX] = karnali_undocumented_infectious\r\n",
        "\r\n",
        "  exposed[..., GANDAKI_IDX] = gandaki_exposed\r\n",
        "  undocumented_infectious[..., GANDAKI_IDX] = gandaki_undocumented_infectious\r\n",
        "\r\n",
        "  exposed[..., LUMBINI_IDX] = lumbini_exposed\r\n",
        "  undocumented_infectious[..., LUMBINI_IDX] = lumbini_undocumented_infectious\r\n",
        "\r\n",
        "  exposed[..., PROVINCE_1_IDX] = province_1_exposed\r\n",
        "  undocumented_infectious[..., PROVINCE_1_IDX] = province_1_undocumented_infectious\r\n",
        "\r\n",
        "  exposed[..., PROVINCE_2_IDX] = province_2_exposed\r\n",
        "  undocumented_infectious[..., PROVINCE_2_IDX] = province_2_undocumented_infectious\r\n",
        "\r\n",
        "  exposed[..., SUDURPASCHIM_IDX] = sudurpaschim_exposed\r\n",
        "  undocumented_infectious[..., SUDURPASCHIM_IDX] = sudurpaschim_undocumented_infectious\r\n",
        "\r\n",
        "  exposed = exposed.astype(np.float32)\r\n",
        "  undocumented_infectious = undocumented_infectious.astype(np.float32)\r\n",
        "\r\n",
        "  print(\"=\"*50)\r\n",
        "  print(exposed.shape)\r\n",
        "\r\n",
        "  # Following Li et al, we do not remove the inital exposed and infectious\r\n",
        "  # persons from the susceptible population.\r\n",
        "  return SEIRComponents(\r\n",
        "      susceptible=tf.constant(susceptible),\r\n",
        "      exposed=tf.constant(exposed),\r\n",
        "      documented_infectious=tf.constant(documented_infectious),\r\n",
        "      undocumented_infectious=tf.constant(undocumented_infectious),\r\n",
        "      daily_new_documented_infectious=tf.constant(daily_new_documented_infectious))\r\n",
        "  \r\n",
        "def initialize_params(num_particles, num_batches, seed):\r\n",
        "  \"\"\"Initialize the global parameters for the entire inference run.\r\n",
        "\r\n",
        "  Args:\r\n",
        "    num_particles: `int` giving the number of particles for the EAKF.\r\n",
        "    num_batches: `int` giving the number of independent EAKF runs to\r\n",
        "      initialize in a vectorized batch.\r\n",
        "    seed: PRNG entropy.\r\n",
        "    \r\n",
        "  Returns:\r\n",
        "    params: A `ModelParams` tuple with fields Tensors of shape\r\n",
        "      [num_particles, num_batches] giving the global parameters\r\n",
        "      to use for the first batch of EAKF runs.\r\n",
        "  \"\"\"\r\n",
        "  # We have 6 parameters. We'll initialize with a Sobol sequence,\r\n",
        "  # covering the hyper-rectangle defined by our parameter limits.\r\n",
        "  halton_sequence = tfp.mcmc.sample_halton_sequence(\r\n",
        "      dim=6, num_results=num_particles * num_batches, seed=seed)\r\n",
        "  halton_sequence = tf.reshape(\r\n",
        "      halton_sequence, [num_particles, num_batches, 6])\r\n",
        "  halton_sequences = tf.nest.pack_sequence_as(\r\n",
        "      PARAMETER_LOWER_BOUNDS, tf.split(\r\n",
        "          halton_sequence, num_or_size_splits=6, axis=-1))\r\n",
        "  def interpolate(minval, maxval, h):\r\n",
        "    return (maxval - minval) * h + minval\r\n",
        "  return tf.nest.map_structure(\r\n",
        "      interpolate,\r\n",
        "      PARAMETER_LOWER_BOUNDS, PARAMETER_UPPER_BOUNDS, halton_sequences)\r\n",
        "\r\n",
        "def update_params(num_particles, num_batches,\r\n",
        "                  prev_params, parameter_variance, seed):\r\n",
        "  \"\"\"Update the global parameters between EAKF runs.\r\n",
        "\r\n",
        "  Args:\r\n",
        "    num_particles: `int` giving the number of particles for the EAKF.\r\n",
        "    num_batches: `int` giving the number of independent EAKF runs to\r\n",
        "      initialize in a vectorized batch.\r\n",
        "    prev_params: A `ModelParams` tuple of the parameters used for the previous\r\n",
        "      EAKF run.\r\n",
        "    parameter_variance: A `ModelParams` tuple specifying how much to drift\r\n",
        "      each parameter.\r\n",
        "    seed: PRNG entropy.\r\n",
        "    \r\n",
        "  Returns:\r\n",
        "    params: A `ModelParams` tuple with fields Tensors of shape\r\n",
        "      [num_particles, num_batches] giving the global parameters\r\n",
        "      to use for the next batch of EAKF runs.\r\n",
        "  \"\"\"\r\n",
        "  # Initialize near the previous set of parameters. This is the first step\r\n",
        "  # in Iterated Filtering.\r\n",
        "  seeds = tf.nest.pack_sequence_as(\r\n",
        "      prev_params, samplers.split_seed(seed, n=len(prev_params)))\r\n",
        "  return tf.nest.map_structure(\r\n",
        "      lambda x, v, seed: x + tf.math.sqrt(v) * tf.random.stateless_normal([\r\n",
        "          num_particles, num_batches, 1], seed=seed),\r\n",
        "      prev_params, parameter_variance, seeds)\r\n"
      ],
      "execution_count": 62,
      "outputs": []
    },
    {
      "cell_type": "code",
      "metadata": {
        "id": "W4Lnqe6OHne-"
      },
      "source": [
        ""
      ],
      "execution_count": null,
      "outputs": []
    },
    {
      "cell_type": "markdown",
      "metadata": {
        "id": "jKWm64gF0JkZ"
      },
      "source": [
        "## Delays\n",
        "\n",
        "One of the important features of this model is taking explicit account of the fact that infections are reported later than they begin.  That is, we expect that a person who moves from the $E$ compartment to the $I^r$ compartment on day $t$ may not show up in the observable reported case counts until some later day.\n",
        "\n",
        "We assume the delay is gamma-distributed.  Following Li et al, we use 1.85 for the shape, and parameterize the rate to produce an average reporting delay of 9 days."
      ]
    },
    {
      "cell_type": "code",
      "metadata": {
        "id": "rFNy6L491BFD"
      },
      "source": [
        "def raw_reporting_delay_distribution(gamma_shape=1.85, reporting_delay=9.):\n",
        "  return tfp.distributions.Gamma(\n",
        "      concentration=gamma_shape, rate=gamma_shape / reporting_delay)"
      ],
      "execution_count": 24,
      "outputs": []
    },
    {
      "cell_type": "markdown",
      "metadata": {
        "id": "yQTwUeKr8dVP"
      },
      "source": [
        "Our observations are discrete, so we will round the raw (continuous) delays up to the nearest day.  We also have a finite data horizon, so the delay distribution for a single person is a categorical over the remaining days.  We can therefore compute the per-city predicted observations more efficiently than sampling $O(I^r)$ gammas, by pre-computing multinomial delay probabilities instead."
      ]
    },
    {
      "cell_type": "code",
      "metadata": {
        "id": "0YRv0FjX9DfB"
      },
      "source": [
        "def reporting_delay_probs(num_timesteps, gamma_shape=1.85, reporting_delay=9.):\n",
        "  gamma_dist = raw_reporting_delay_distribution(gamma_shape, reporting_delay)\n",
        "  multinomial_probs = [gamma_dist.cdf(1.)]\n",
        "  for k in range(2, num_timesteps + 1):\n",
        "    multinomial_probs.append(gamma_dist.cdf(k) - gamma_dist.cdf(k - 1))\n",
        "  # For samples that are larger than T.\n",
        "  multinomial_probs.append(gamma_dist.survival_function(num_timesteps))\n",
        "  multinomial_probs = tf.stack(multinomial_probs)\n",
        "  return multinomial_probs"
      ],
      "execution_count": 25,
      "outputs": []
    },
    {
      "cell_type": "markdown",
      "metadata": {
        "id": "7WAHi68lBFqz"
      },
      "source": [
        "Here's the code for actually applying these delays to the new daily documented infectious counts:"
      ]
    },
    {
      "cell_type": "code",
      "metadata": {
        "id": "vrPHDvUEBPsS"
      },
      "source": [
        "def delay_reporting(\n",
        "    daily_new_documented_infectious, num_timesteps, t, multinomial_probs, seed):\n",
        "  # This is the distribution of observed infectious counts from the current\n",
        "  # timestep.\n",
        "\n",
        "  raw_delays = tfd.Multinomial(\n",
        "      total_count=daily_new_documented_infectious,\n",
        "      probs=multinomial_probs).sample(seed=seed)\n",
        "\n",
        "  # The last bucket is used for samples that are out of range of T + 1. Thus\n",
        "  # they are not going to be observable in this model.\n",
        "  clipped_delays = raw_delays[..., :-1]\n",
        "\n",
        "  # We can also remove counts that are such that t + i >= T.\n",
        "  clipped_delays = clipped_delays[..., :num_timesteps - t]\n",
        "  # We finally shift everything by t. That means prepending with zeros.\n",
        "  return tf.concat([\n",
        "      tf.zeros(\n",
        "          tf.concat([\n",
        "              tf.shape(clipped_delays)[:-1], [t]], axis=0),\n",
        "          dtype=clipped_delays.dtype),\n",
        "      clipped_delays], axis=-1)"
      ],
      "execution_count": 26,
      "outputs": []
    },
    {
      "cell_type": "markdown",
      "metadata": {
        "id": "DRsd3wsW9WYQ"
      },
      "source": [
        "## Inference"
      ]
    },
    {
      "cell_type": "markdown",
      "metadata": {
        "id": "2lO5MVT6M2lc"
      },
      "source": [
        "First we'll define some data structures for inference.\n",
        "\n",
        "In particular, we'll be wanting to do Iterated Filtering, which packages the\n",
        "state and parameters together while doing inference. So we'll define\n",
        "a `ParameterStatePair` object.\n",
        "\n",
        "We also want to package any side information to the model."
      ]
    },
    {
      "cell_type": "code",
      "metadata": {
        "id": "6JrCjAhXM6TL"
      },
      "source": [
        "ParameterStatePair = collections.namedtuple(\n",
        "    'ParameterStatePair', ['state', 'params'])\n",
        "\n",
        "# Info that is tracked and mutated but should not have inference performed over.\n",
        "SideInfo = collections.namedtuple(\n",
        "    'SideInfo', [\n",
        "        # Observations at every time step.\n",
        "        'observations_over_time',\n",
        "        'initial_population',\n",
        "        'mobility_matrix_over_time',\n",
        "        'population',\n",
        "        # Used for variance of measured observations.\n",
        "        'actual_reported_cases',\n",
        "        # Pre-computed buckets for the multinomial distribution.\n",
        "        'multinomial_probs',\n",
        "        'seed',\n",
        "    ])\n",
        "\n",
        "# Cities can not fall below this fraction of people\n",
        "MINIMUM_CITY_FRACTION = 0.6\n",
        "\n",
        "# How much to inflate the covariance by.\n",
        "INFLATION_FACTOR = 1.1\n",
        "\n",
        "INFLATE_FN = tfes.inflate_by_scaled_identity_fn(INFLATION_FACTOR)"
      ],
      "execution_count": 27,
      "outputs": []
    },
    {
      "cell_type": "markdown",
      "metadata": {
        "id": "eoZPQ9YDM9mj"
      },
      "source": [
        "Here is the complete observation model, packaged for the Ensemble Kalman Filter.\n",
        "\n",
        "The interesting feature is the reporting delays (computed as previously).  The upstream model emits the `daily_new_documented_infectious` for each city at each time step."
      ]
    },
    {
      "cell_type": "code",
      "metadata": {
        "id": "lBrt1BkO9Xje"
      },
      "source": [
        "# We observe the observed infections.\n",
        "def observation_fn(t, state_params, extra):\n",
        "  \"\"\"Generate reported cases.\n",
        "  \n",
        "  Args:\n",
        "    state_params: A `ParameterStatePair` giving the current parameters\n",
        "      and state.\n",
        "    t: Integer giving the current time.\n",
        "    extra: A `SideInfo` carrying auxiliary information.\n",
        "\n",
        "  Returns:\n",
        "    observations: A Tensor of predicted observables, namely new cases\n",
        "      per city at time `t`.\n",
        "    extra: Update `SideInfo`.\n",
        "  \"\"\"\n",
        "  # Undo padding introduced in `inference`.\n",
        "  daily_new_documented_infectious = state_params.state.daily_new_documented_infectious[..., 0]\n",
        "  # Number of people that we have already committed to become\n",
        "  # observed infectious over time.\n",
        "  # shape: batch + [num_particles, num_cities, time]\n",
        "  observations_over_time = extra.observations_over_time\n",
        "  num_timesteps = observations_over_time.shape[-1]\n",
        "\n",
        "  seed, new_seed = samplers.split_seed(extra.seed, salt='reporting delay')\n",
        "  \n",
        "  daily_delayed_counts = delay_reporting(\n",
        "      daily_new_documented_infectious, num_timesteps, t,\n",
        "      extra.multinomial_probs, seed)\n",
        "  observations_over_time = observations_over_time + daily_delayed_counts\n",
        "\n",
        "  extra = extra._replace(\n",
        "      observations_over_time=observations_over_time,\n",
        "      seed=new_seed)\n",
        "\n",
        "  # Actual predicted new cases, re-padded.\n",
        "  adjusted_observations = observations_over_time[..., t][..., tf.newaxis]\n",
        "  # Finally observations have variance that is a function of the true observations:\n",
        "  return tfd.MultivariateNormalDiag(\n",
        "      loc=adjusted_observations,\n",
        "      scale_diag=tf.math.maximum(\n",
        "          2., extra.actual_reported_cases[..., t][..., tf.newaxis] / 2.)), extra"
      ],
      "execution_count": 28,
      "outputs": []
    },
    {
      "cell_type": "markdown",
      "metadata": {
        "id": "ugNrSlDAyUc6"
      },
      "source": [
        "Here we define the transition dynamics. We've done the semantic work already; here we just package it for the EAKF framework, and, following Li et al, clip city populations to prevent them from getting too small."
      ]
    },
    {
      "cell_type": "code",
      "metadata": {
        "id": "95S7LAj4NB_5"
      },
      "source": [
        "def transition_fn(t, state_params, extra):\n",
        "  \"\"\"SEIR dynamics.\n",
        "\n",
        "  Args:\n",
        "    state_params: A `ParameterStatePair` giving the current parameters\n",
        "      and state.\n",
        "    t: Integer giving the current time.\n",
        "    extra: A `SideInfo` carrying auxiliary information.\n",
        "\n",
        "  Returns:\n",
        "    state_params: A `ParameterStatePair` predicted for the next time step.\n",
        "    extra: Updated `SideInfo`.\n",
        "  \"\"\"\n",
        "  mobility_t = extra.mobility_matrix_over_time[..., t]\n",
        "  new_seed, rk4_seed = samplers.split_seed(extra.seed, salt='Transition')\n",
        "  new_state = rk4_one_step(\n",
        "      state_params.state,\n",
        "      extra.population,\n",
        "      mobility_t,\n",
        "      state_params.params,\n",
        "      seed=rk4_seed)\n",
        "\n",
        "  # Make sure population doesn't go below MINIMUM_CITY_FRACTION.\n",
        "  new_population = (\n",
        "      extra.population + state_params.params.intercity_underreporting_factor * (\n",
        "          # Inflow\n",
        "          tf.reduce_sum(mobility_t, axis=-2) - \n",
        "          # Outflow\n",
        "          tf.reduce_sum(mobility_t, axis=-1)))\n",
        "  new_population = tf.where(\n",
        "      new_population < MINIMUM_CITY_FRACTION * extra.initial_population,\n",
        "      extra.initial_population * MINIMUM_CITY_FRACTION,\n",
        "      new_population)\n",
        "\n",
        "  extra = extra._replace(population=new_population, seed=new_seed)\n",
        "\n",
        "  # The Ensemble Kalman Filter code expects the transition function to return a distribution.\n",
        "  # As the dynamics and noise are encapsulated above, we construct a `JointDistribution` that when\n",
        "  # sampled, returns the values above.\n",
        "\n",
        "  new_state = tfd.JointDistributionNamed(\n",
        "      model=tf.nest.map_structure(lambda x: tfd.VectorDeterministic(x), new_state))\n",
        "  params = tfd.JointDistributionNamed(\n",
        "      model=tf.nest.map_structure(lambda x: tfd.VectorDeterministic(x), state_params.params))\n",
        "  \n",
        "  state_params = tfd.JointDistributionNamed(\n",
        "      model=ParameterStatePair(state=new_state, params=params))\n",
        "\n",
        "  return state_params, extra"
      ],
      "execution_count": 29,
      "outputs": []
    },
    {
      "cell_type": "markdown",
      "metadata": {
        "id": "nsdNsvzuyaN-"
      },
      "source": [
        "Finally we define the inference method. This is two loops, the outer loop\n",
        "being Iterated Filtering while the inner loop is Ensemble Adjustment Kalman Filtering."
      ]
    },
    {
      "cell_type": "code",
      "metadata": {
        "id": "EUWinMkUNFGJ"
      },
      "source": [
        "# Use tf.function to speed up EAKF prediction and updates.\n",
        "ensemble_kalman_filter_predict = tf.function(\n",
        "    tfes.ensemble_kalman_filter_predict, autograph=False)\n",
        "ensemble_adjustment_kalman_filter_update = tf.function(\n",
        "    tfes.ensemble_adjustment_kalman_filter_update, autograph=False)\n",
        "\n",
        "def inference(\n",
        "    num_ensembles,\n",
        "    num_batches,\n",
        "    num_iterations,\n",
        "    actual_reported_cases,\n",
        "    mobility_matrix_over_time,\n",
        "    seed=None,\n",
        "    # This is how much to reduce the variance by in every iterative\n",
        "    # filtering step.\n",
        "    variance_shrinkage_factor=0.9,\n",
        "    # Days before infection is reported.\n",
        "    reporting_delay=9.,\n",
        "    # Shape parameter of Gamma distribution.\n",
        "    gamma_shape_parameter=1.85):\n",
        "  \"\"\"Inference for the Shaman, et al. model.\n",
        "\n",
        "  Args:\n",
        "    num_ensembles: Number of particles to use for EAKF.\n",
        "    num_batches: Number of batches of IF-EAKF to run.\n",
        "    num_iterations: Number of iterations to run iterative filtering.\n",
        "    actual_reported_cases: `Tensor` of shape `[L, T]` where `L` is the number\n",
        "      of cities, and `T` is the timesteps.\n",
        "    mobility_matrix_over_time: `Tensor` of shape `[L, L, T]` which specifies the\n",
        "      mobility between locations over time.\n",
        "    variance_shrinkage_factor: Python `float`. How much to reduce the\n",
        "      variance each iteration of iterated filtering.\n",
        "    reporting_delay: Python `float`. How many days before the infection\n",
        "      is reported.\n",
        "    gamma_shape_parameter: Python `float`. Shape parameter of Gamma distribution\n",
        "      of reporting delays.\n",
        "\n",
        "  Returns:\n",
        "    result: A `ModelParams` with fields Tensors of shape [num_batches],\n",
        "      containing the inferred parameters at the final iteration.\n",
        "  \"\"\"\n",
        "  print('Starting inference.')\n",
        "  num_timesteps = actual_reported_cases.shape[-1]\n",
        "  params_per_iter = []\n",
        "\n",
        "  multinomial_probs = reporting_delay_probs(\n",
        "      num_timesteps, gamma_shape_parameter, reporting_delay)\n",
        "\n",
        "  seed = samplers.sanitize_seed(seed, salt='Inference')\n",
        "\n",
        "  for i in range(num_iterations):\n",
        "    start_if_time = time.time()\n",
        "    seeds = samplers.split_seed(seed, n=4, salt='Initialize')\n",
        "    if params_per_iter:\n",
        "      parameter_variance = tf.nest.map_structure(\n",
        "          lambda minval, maxval: variance_shrinkage_factor ** (\n",
        "              2 * i) * (maxval - minval) ** 2 / 4.,\n",
        "          PARAMETER_LOWER_BOUNDS, PARAMETER_UPPER_BOUNDS)\n",
        "      params_t = update_params(\n",
        "          num_ensembles,\n",
        "          num_batches,\n",
        "          prev_params=params_per_iter[-1],\n",
        "          parameter_variance=parameter_variance,\n",
        "          seed=seeds.pop())\n",
        "    else:\n",
        "      params_t = initialize_params(num_ensembles, num_batches, seed=seeds.pop())\n",
        "\n",
        "    state_t = initialize_state(num_ensembles, num_batches, seed=seeds.pop())\n",
        "    population_t = sum(x for x in state_t)\n",
        "    observations_over_time = tf.zeros(\n",
        "        [num_ensembles,\n",
        "         num_batches,\n",
        "         actual_reported_cases.shape[0], num_timesteps])\n",
        "\n",
        "    extra = SideInfo(\n",
        "        observations_over_time=observations_over_time,\n",
        "        initial_population=tf.identity(population_t),\n",
        "        mobility_matrix_over_time=mobility_matrix_over_time,\n",
        "        population=population_t,\n",
        "        multinomial_probs=multinomial_probs,\n",
        "        actual_reported_cases=actual_reported_cases,\n",
        "        seed=seeds.pop())\n",
        "\n",
        "    # Clip states\n",
        "    state_t = clip_state(state_t, population_t)\n",
        "    params_t = clip_params(params_t, seed=seeds.pop())\n",
        "\n",
        "    # Accrue the parameter over time. We'll be averaging that\n",
        "    # and using that as our MLE estimate.\n",
        "    params_over_time = tf.nest.map_structure(\n",
        "        lambda x: tf.identity(x), params_t)\n",
        "\n",
        "    state_params = ParameterStatePair(state=state_t, params=params_t)\n",
        "\n",
        "    eakf_state = tfes.EnsembleKalmanFilterState(\n",
        "        step=tf.constant(0), particles=state_params, extra=extra)\n",
        "\n",
        "    for j in range(num_timesteps):\n",
        "      seeds = samplers.split_seed(eakf_state.extra.seed, n=3)\n",
        "      \n",
        "      extra = extra._replace(seed=seeds.pop())\n",
        "    \n",
        "      # Predict step.\n",
        "\n",
        "      # Inflate and clip.\n",
        "      new_particles = INFLATE_FN(eakf_state.particles)\n",
        "      state_t = clip_state(new_particles.state, eakf_state.extra.population)\n",
        "      params_t = clip_params(new_particles.params, seed=seeds.pop())\n",
        "      eakf_state = eakf_state._replace(\n",
        "          particles=ParameterStatePair(params=params_t, state=state_t))\n",
        "\n",
        "      eakf_predict_state = ensemble_kalman_filter_predict(eakf_state, transition_fn)\n",
        "\n",
        "      # Clip the state and particles.\n",
        "      state_params = eakf_predict_state.particles\n",
        "      state_t = clip_state(\n",
        "          state_params.state, eakf_predict_state.extra.population)\n",
        "      state_params = ParameterStatePair(state=state_t, params=state_params.params)\n",
        "\n",
        "      # We preprocess the state and parameters by affixing a 1 dimension. This is because for\n",
        "      # inference, we treat each city as independent. We could also introduce localization by\n",
        "      # considering cities that are adjacent.\n",
        "      state_params = tf.nest.map_structure(lambda x: x[..., tf.newaxis], state_params)\n",
        "      eakf_predict_state = eakf_predict_state._replace(particles=state_params)\n",
        "\n",
        "      # Update step.\n",
        "      \n",
        "      eakf_update_state = ensemble_adjustment_kalman_filter_update(\n",
        "          eakf_predict_state,\n",
        "          actual_reported_cases[..., j][..., tf.newaxis],\n",
        "          observation_fn)\n",
        "      \n",
        "      state_params = tf.nest.map_structure(\n",
        "          lambda x: x[..., 0], eakf_update_state.particles)\n",
        "\n",
        "      # Clip to ensure parameters / state are well constrained.\n",
        "      state_t = clip_state(\n",
        "          state_params.state, eakf_update_state.extra.population)\n",
        "      \n",
        "      # Finally for the parameters, we should reduce over all updates. We get\n",
        "      # an extra dimension back so let's do that.\n",
        "      params_t = tf.nest.map_structure(\n",
        "          lambda x, y: x + tf.reduce_sum(y[..., tf.newaxis] - x, axis=-2, keepdims=True),\n",
        "          eakf_predict_state.particles.params, state_params.params)\n",
        "      params_t = clip_params(params_t, seed=seeds.pop())\n",
        "      params_t = tf.nest.map_structure(lambda x: x[..., 0], params_t)\n",
        "\n",
        "      state_params = ParameterStatePair(state=state_t, params=params_t)\n",
        "      eakf_state = eakf_update_state\n",
        "      eakf_state = eakf_state._replace(particles=state_params)\n",
        "\n",
        "      # Flatten and collect the inferred parameter at time step t.\n",
        "      params_over_time = tf.nest.map_structure(\n",
        "          lambda s, x: tf.concat([s, x], axis=-1), params_over_time, params_t)\n",
        "\n",
        "    est_params = tf.nest.map_structure(\n",
        "        # Take the average over the Ensemble and over time.\n",
        "        lambda x: tf.math.reduce_mean(x, axis=[0, -1])[..., tf.newaxis],\n",
        "        params_over_time)\n",
        "    params_per_iter.append(est_params)\n",
        "    print('Iterated Filtering {} / {} Ran in: {:.2f} seconds'.format(\n",
        "        i, num_iterations, time.time() - start_if_time))\n",
        "\n",
        "  return tf.nest.map_structure(\n",
        "      lambda x: tf.squeeze(x, axis=-1), params_per_iter[-1]), eakf_state"
      ],
      "execution_count": 30,
      "outputs": []
    },
    {
      "cell_type": "markdown",
      "metadata": {
        "id": "UvALK7e1fgKU"
      },
      "source": [
        "Final detail: clipping the parameters and state consists of making sure they are within range, and non-negative."
      ]
    },
    {
      "cell_type": "code",
      "metadata": {
        "id": "aQj7o0nU6-ru"
      },
      "source": [
        "def clip_state(state, population):\n",
        "  \"\"\"Clip state to sensible values.\"\"\"\n",
        "  state = tf.nest.map_structure(\n",
        "      lambda x: tf.where(x < 0, 0., x), state)\n",
        "\n",
        "  # If S > population, then adjust as well.\n",
        "  susceptible = tf.where(state.susceptible > population, population, state.susceptible)\n",
        "  return SEIRComponents(\n",
        "      susceptible=susceptible,\n",
        "      exposed=state.exposed,\n",
        "      documented_infectious=state.documented_infectious,\n",
        "      undocumented_infectious=state.undocumented_infectious,\n",
        "      daily_new_documented_infectious=state.daily_new_documented_infectious)\n",
        "\n",
        "def clip_params(params, seed):\n",
        "  \"\"\"Clip parameters to bounds.\"\"\"\n",
        "  def _clip(p, minval, maxval):\n",
        "    return tf.where(\n",
        "        p < minval,\n",
        "        minval * (1. + 0.1 * tf.random.stateless_uniform(p.shape, seed=seed)),\n",
        "        tf.where(p > maxval,\n",
        "                 maxval * (1. - 0.1 * tf.random.stateless_uniform(\n",
        "                     p.shape, seed=seed)), p))\n",
        "  params = tf.nest.map_structure(\n",
        "      _clip, params, PARAMETER_LOWER_BOUNDS, PARAMETER_UPPER_BOUNDS)\n",
        "\n",
        "  return params"
      ],
      "execution_count": 31,
      "outputs": []
    },
    {
      "cell_type": "markdown",
      "metadata": {
        "id": "c7ACJedFAyHQ"
      },
      "source": [
        "## Running it all together"
      ]
    },
    {
      "cell_type": "code",
      "metadata": {
        "colab": {
          "base_uri": "https://localhost:8080/"
        },
        "id": "-T603NTSA0f3",
        "outputId": "ec0f457d-c06a-4bc7-9499-7b625adfa97e"
      },
      "source": [
        "# Let's sample the parameters.\n",
        "#\n",
        "# NOTE: Li et al. run inference 1000 times, which would take a few hours.\n",
        "# Here we run inference 30 times (in a single, vectorized batch).\n",
        "best_parameters, eakf_state = inference(\n",
        "    num_ensembles=300,\n",
        "    num_batches=30,\n",
        "    num_iterations=10,\n",
        "    actual_reported_cases=observed_daily_infectious_count,\n",
        "    mobility_matrix_over_time=mobility_matrix_over_time)"
      ],
      "execution_count": 63,
      "outputs": [
        {
          "output_type": "stream",
          "text": [
            "Starting inference.\n",
            "==================================================\n",
            "(300, 30)\n",
            "==================================================\n",
            "(300, 30)\n",
            "==================================================\n",
            "(300, 30)\n",
            "==================================================\n",
            "(300, 30, 7)\n",
            "Iterated Filtering 0 / 10 Ran in: 38.09 seconds\n",
            "==================================================\n",
            "(300, 30)\n",
            "==================================================\n",
            "(300, 30)\n",
            "==================================================\n",
            "(300, 30)\n",
            "==================================================\n",
            "(300, 30, 7)\n",
            "Iterated Filtering 1 / 10 Ran in: 38.94 seconds\n",
            "==================================================\n",
            "(300, 30)\n",
            "==================================================\n",
            "(300, 30)\n",
            "==================================================\n",
            "(300, 30)\n",
            "==================================================\n",
            "(300, 30, 7)\n",
            "Iterated Filtering 2 / 10 Ran in: 46.75 seconds\n",
            "==================================================\n",
            "(300, 30)\n",
            "==================================================\n",
            "(300, 30)\n",
            "==================================================\n",
            "(300, 30)\n",
            "==================================================\n",
            "(300, 30, 7)\n",
            "Iterated Filtering 3 / 10 Ran in: 47.94 seconds\n",
            "==================================================\n",
            "(300, 30)\n",
            "==================================================\n",
            "(300, 30)\n",
            "==================================================\n",
            "(300, 30)\n",
            "==================================================\n",
            "(300, 30, 7)\n",
            "Iterated Filtering 4 / 10 Ran in: 49.43 seconds\n",
            "==================================================\n",
            "(300, 30)\n",
            "==================================================\n",
            "(300, 30)\n",
            "==================================================\n",
            "(300, 30)\n",
            "==================================================\n",
            "(300, 30, 7)\n",
            "Iterated Filtering 5 / 10 Ran in: 49.10 seconds\n",
            "==================================================\n",
            "(300, 30)\n",
            "==================================================\n",
            "(300, 30)\n",
            "==================================================\n",
            "(300, 30)\n",
            "==================================================\n",
            "(300, 30, 7)\n",
            "Iterated Filtering 6 / 10 Ran in: 38.64 seconds\n",
            "==================================================\n",
            "(300, 30)\n",
            "==================================================\n",
            "(300, 30)\n",
            "==================================================\n",
            "(300, 30)\n",
            "==================================================\n",
            "(300, 30, 7)\n",
            "Iterated Filtering 7 / 10 Ran in: 37.89 seconds\n",
            "==================================================\n",
            "(300, 30)\n",
            "==================================================\n",
            "(300, 30)\n",
            "==================================================\n",
            "(300, 30)\n",
            "==================================================\n",
            "(300, 30, 7)\n",
            "Iterated Filtering 8 / 10 Ran in: 38.03 seconds\n",
            "==================================================\n",
            "(300, 30)\n",
            "==================================================\n",
            "(300, 30)\n",
            "==================================================\n",
            "(300, 30)\n",
            "==================================================\n",
            "(300, 30, 7)\n",
            "Iterated Filtering 9 / 10 Ran in: 45.92 seconds\n"
          ],
          "name": "stdout"
        }
      ]
    },
    {
      "cell_type": "markdown",
      "metadata": {
        "id": "ZWjY1KpJ3JuT"
      },
      "source": [
        "The results of our inferences.  We plot the maximum-likelihood values for all the global paramters to show their variation across our `num_batches` independent runs of inference.  This corresponds to Table S1 in the supplemental materials."
      ]
    },
    {
      "cell_type": "code",
      "metadata": {
        "colab": {
          "base_uri": "https://localhost:8080/",
          "height": 717
        },
        "id": "TZqHM3nIQ8Zj",
        "outputId": "e54bbb23-84ab-4506-d94c-c7af8ef09c2b"
      },
      "source": [
        "fig, axs = plt.subplots(2, 3, figsize=(20,12))\n",
        "axs[0, 0].boxplot(np.array(best_parameters.documented_infectious_tx_rate),\n",
        "                  whis=(2.5,97.5), sym='')\n",
        "axs[0, 0].set_title(r'$\\beta$')\n",
        "\n",
        "axs[0, 1].boxplot(np.array(best_parameters.undocumented_infectious_tx_relative_rate),\n",
        "                  whis=(2.5,97.5), sym='')\n",
        "axs[0, 1].set_title(r'$\\mu$')\n",
        "\n",
        "axs[0, 2].boxplot(np.array(best_parameters.intercity_underreporting_factor),\n",
        "                  whis=(2.5,97.5), sym='')\n",
        "axs[0, 2].set_title(r'$\\theta$')\n",
        "\n",
        "axs[1, 0].boxplot(np.array(best_parameters.average_latency_period),\n",
        "                  whis=(2.5,97.5), sym='')\n",
        "axs[1, 0].set_title(r'$Z$')\n",
        "\n",
        "axs[1, 1].boxplot(np.array(best_parameters.fraction_of_documented_infections),\n",
        "                  whis=(2.5,97.5), sym='')\n",
        "axs[1, 1].set_title(r'$\\alpha$')\n",
        "\n",
        "axs[1, 2].boxplot(np.array(best_parameters.average_infection_duration),\n",
        "                  whis=(2.5,97.5), sym='')\n",
        "axs[1, 2].set_title(r'$D$')\n",
        "plt.show()"
      ],
      "execution_count": 64,
      "outputs": [
        {
          "output_type": "display_data",
          "data": {
            "image/png": "[encoded data removed]",
            "text/plain": [
              "<Figure size 1440x864 with 6 Axes>"
            ]
          },
          "metadata": {
            "tags": [],
            "needs_background": "light"
          }
        }
      ]
    },
    {
      "cell_type": "markdown",
      "metadata": {
        "id": "f7I2gASqWCgz"
      },
      "source": [
        "## Predictions time!"
      ]
    },
    {
      "cell_type": "code",
      "metadata": {
        "colab": {
          "base_uri": "https://localhost:8080/"
        },
        "id": "BEm5HzpJWCgz",
        "outputId": "841458f8-2d8e-4a4d-9215-defbc26a1920"
      },
      "source": [
        "# create some np arrays for validation\n",
        "# we will use data for last 30 days\n",
        "\n",
        "val_observed_daily_infectious_count = raw_incidence.to_numpy()\n",
        "val_observed_daily_infectious_count = np.transpose(\n",
        "    val_observed_daily_infectious_count).astype(np.float32)\n",
        "\n",
        "val_mobility_matrix_over_time = get_mobility_matrix(150, 180)\n",
        "\n",
        "print('Mobility Matrix over time should have shape (7, 7, 30): {}'.format(\n",
        "    val_mobility_matrix_over_time.shape))\n",
        "print('Observed Infectious should have shape (7, 180): {}'.format(\n",
        "    val_observed_daily_infectious_count.shape))\n",
        "print('Initial population should have shape (7): {}'.format(\n",
        "    initial_population.shape))"
      ],
      "execution_count": 65,
      "outputs": [
        {
          "output_type": "stream",
          "text": [
            "Mobility Matrix over time should have shape (7, 7, 30): (7, 7, 30)\n",
            "Observed Infectious should have shape (7, 180): (7, 180)\n",
            "Initial population should have shape (7): (7,)\n"
          ],
          "name": "stdout"
        }
      ]
    },
    {
      "cell_type": "code",
      "metadata": {
        "colab": {
          "base_uri": "https://localhost:8080/"
        },
        "id": "GpLJ9I5kf7vz",
        "outputId": "c8f77061-b643-4dd8-bcba-820f07272d1f"
      },
      "source": [
        "eakf_state.particles.state.daily_new_documented_infectious[1, :, :]"
      ],
      "execution_count": 66,
      "outputs": [
        {
          "output_type": "execute_result",
          "data": {
            "text/plain": [
              "<tf.Tensor: shape=(30, 7), dtype=float32, numpy=\n",
              "array([[2.6981254e+04, 0.0000000e+00, 0.0000000e+00, 1.3314428e+04,\n",
              "        1.1719421e+04, 1.1866167e+03, 0.0000000e+00],\n",
              "       [2.5384719e+04, 0.0000000e+00, 0.0000000e+00, 1.0902606e+04,\n",
              "        2.4656359e+04, 2.1607297e+02, 0.0000000e+00],\n",
              "       [6.4857080e+02, 5.8889873e+03, 2.1440967e+02, 4.0973818e+03,\n",
              "        1.9059826e+04, 0.0000000e+00, 0.0000000e+00],\n",
              "       [0.0000000e+00, 0.0000000e+00, 1.7974866e+03, 0.0000000e+00,\n",
              "        3.9024332e+04, 0.0000000e+00, 0.0000000e+00],\n",
              "       [7.1711523e+02, 2.7148286e+03, 0.0000000e+00, 0.0000000e+00,\n",
              "        2.0888959e+04, 2.6386743e+02, 1.5346674e+03],\n",
              "       [6.3226875e+03, 1.2864692e+03, 2.5965144e+03, 0.0000000e+00,\n",
              "        1.1864912e+04, 0.0000000e+00, 4.3910126e+02],\n",
              "       [1.3704801e+04, 3.4197394e+02, 2.6585095e+02, 6.4532139e+03,\n",
              "        2.4155328e+04, 0.0000000e+00, 0.0000000e+00],\n",
              "       [1.7927992e+04, 0.0000000e+00, 0.0000000e+00, 6.3102798e+03,\n",
              "        1.7601945e+04, 9.6111834e-01, 3.8256191e+01],\n",
              "       [0.0000000e+00, 0.0000000e+00, 8.5943585e+02, 0.0000000e+00,\n",
              "        1.5644770e+04, 3.6932425e+02, 0.0000000e+00],\n",
              "       [0.0000000e+00, 1.9631797e+03, 3.7039196e+01, 0.0000000e+00,\n",
              "        3.6967301e+04, 0.0000000e+00, 2.1356183e+02],\n",
              "       [0.0000000e+00, 0.0000000e+00, 0.0000000e+00, 1.3528394e+02,\n",
              "        1.6121583e+04, 2.9179085e+01, 2.6307829e+01],\n",
              "       [0.0000000e+00, 0.0000000e+00, 0.0000000e+00, 1.0599983e+04,\n",
              "        2.4905270e+04, 0.0000000e+00, 3.7575767e+03],\n",
              "       [9.2904414e+03, 1.0731410e+03, 1.0222837e+01, 8.1269492e+03,\n",
              "        1.7192416e+04, 2.9856104e+03, 5.6460791e+02],\n",
              "       [2.7180734e+04, 7.5846863e+02, 0.0000000e+00, 1.6330822e+04,\n",
              "        6.2777430e-01, 0.0000000e+00, 0.0000000e+00],\n",
              "       [7.8057363e+03, 0.0000000e+00, 0.0000000e+00, 7.9575093e+03,\n",
              "        6.8454927e+03, 0.0000000e+00, 0.0000000e+00],\n",
              "       [3.7992195e+04, 0.0000000e+00, 0.0000000e+00, 2.8935811e+04,\n",
              "        4.3890281e+04, 0.0000000e+00, 0.0000000e+00],\n",
              "       [2.9407033e+04, 7.8736200e+02, 0.0000000e+00, 1.1540795e+04,\n",
              "        0.0000000e+00, 0.0000000e+00, 1.7409315e+02],\n",
              "       [4.2733655e+02, 2.3384692e+03, 1.3776265e+02, 1.1634501e+04,\n",
              "        0.0000000e+00, 0.0000000e+00, 4.9075954e+01],\n",
              "       [0.0000000e+00, 1.4634401e+01, 4.3706219e+01, 2.1252196e+02,\n",
              "        0.0000000e+00, 2.6193447e+03, 0.0000000e+00],\n",
              "       [1.6228652e+04, 2.8236721e+03, 0.0000000e+00, 9.3403594e+03,\n",
              "        1.9934139e+04, 0.0000000e+00, 0.0000000e+00],\n",
              "       [1.9210816e+04, 2.2316143e+03, 0.0000000e+00, 1.0827319e+04,\n",
              "        2.1182309e+04, 1.5277109e-01, 0.0000000e+00],\n",
              "       [2.2661471e+04, 4.0632949e+03, 0.0000000e+00, 1.2506483e+04,\n",
              "        0.0000000e+00, 3.3225443e+02, 1.7042009e+01],\n",
              "       [8.5189199e+03, 1.7392122e+03, 3.5122845e+02, 7.1979253e+03,\n",
              "        2.2550594e+04, 0.0000000e+00, 1.3166621e+02],\n",
              "       [0.0000000e+00, 2.0507141e+03, 1.1376007e+02, 1.5081148e+04,\n",
              "        0.0000000e+00, 3.6020390e+01, 0.0000000e+00],\n",
              "       [1.3074504e+04, 0.0000000e+00, 0.0000000e+00, 2.1349570e+03,\n",
              "        1.0059678e+03, 0.0000000e+00, 0.0000000e+00],\n",
              "       [2.1214510e+04, 1.8677676e+02, 0.0000000e+00, 1.2149538e+04,\n",
              "        3.4451055e+04, 0.0000000e+00, 0.0000000e+00],\n",
              "       [1.4272877e+04, 0.0000000e+00, 5.9356787e+02, 4.4040723e+03,\n",
              "        1.4854027e+04, 1.0824673e+03, 1.1705649e+02],\n",
              "       [1.1930901e+04, 2.3102651e+03, 0.0000000e+00, 2.4880303e+03,\n",
              "        9.6092461e+03, 0.0000000e+00, 0.0000000e+00],\n",
              "       [0.0000000e+00, 2.7054319e+03, 1.6619548e+03, 1.8178374e+03,\n",
              "        4.4490574e+04, 0.0000000e+00, 6.1016143e+03],\n",
              "       [3.8699243e+03, 5.3287363e+03, 0.0000000e+00, 7.9043037e+03,\n",
              "        1.1010248e+03, 1.2483821e+03, 2.8345386e+03]], dtype=float32)>"
            ]
          },
          "metadata": {
            "tags": []
          },
          "execution_count": 66
        }
      ]
    },
    {
      "cell_type": "code",
      "metadata": {
        "id": "KNYbhtExWCgz"
      },
      "source": [
        "# Taking mean of the states for now.\n",
        "# The output state has shape (300, 30, 7)\n",
        "# 300 -> number of ensembles\n",
        "# 30  -> batch size\n",
        "# 7  -> number of provinces\n",
        "\n",
        "state_susceptible = np.mean(eakf_state.particles.state.susceptible, axis=(0,1))\n",
        "state_exposed = np.mean(eakf_state.particles.state.exposed, axis=(0,1))\n",
        "state_daily_new_documented_infectious = np.mean(eakf_state.particles.state.daily_new_documented_infectious, axis=(0,1))\n",
        "state_documented_infectious = np.mean(eakf_state.particles.state.documented_infectious, axis=(0,1))\n",
        "state_undocumented_infectious = np.mean(eakf_state.particles.state.undocumented_infectious, axis=(0,1))\n",
        "\n",
        "model_state = SEIRComponents(\n",
        "    susceptible=state_susceptible,\n",
        "    exposed=state_exposed,\n",
        "    daily_new_documented_infectious=state_daily_new_documented_infectious,\n",
        "    documented_infectious=state_documented_infectious,\n",
        "    undocumented_infectious=state_undocumented_infectious\n",
        ")\n",
        "\n",
        "param_documented_infectious_tx_rate = np.mean(best_parameters.documented_infectious_tx_rate)\n",
        "param_average_infection_duration = np.mean(best_parameters.average_infection_duration)\n",
        "param_average_latency_period = np.mean(best_parameters.average_latency_period)\n",
        "param_fraction_of_documented_infections = np.mean(best_parameters.fraction_of_documented_infections)\n",
        "param_intercity_underreporting_factor = np.mean(best_parameters.intercity_underreporting_factor)\n",
        "param_undocumented_infectious_tx_relative_rate = np.mean(best_parameters.undocumented_infectious_tx_relative_rate)\n",
        "\n",
        "model_params = ModelParams(\n",
        "    documented_infectious_tx_rate=param_documented_infectious_tx_rate,\n",
        "    average_infection_duration=param_average_infection_duration,\n",
        "    average_latency_period=param_average_latency_period,\n",
        "    fraction_of_documented_infections=param_fraction_of_documented_infections,\n",
        "    intercity_underreporting_factor=param_intercity_underreporting_factor,\n",
        "    undocumented_infectious_tx_relative_rate= param_undocumented_infectious_tx_relative_rate\n",
        ")"
      ],
      "execution_count": 67,
      "outputs": []
    },
    {
      "cell_type": "code",
      "metadata": {
        "colab": {
          "base_uri": "https://localhost:8080/"
        },
        "id": "UjwlxJ02auxQ",
        "outputId": "0e43d684-e6d7-43ad-e2be-cdcaf185287d"
      },
      "source": [
        "raw_incidence.to_numpy()[150, :]"
      ],
      "execution_count": 68,
      "outputs": [
        {
          "output_type": "execute_result",
          "data": {
            "text/plain": [
              "array([5713, 2143, 2431, 2928, 9918, 6081, 5204])"
            ]
          },
          "metadata": {
            "tags": []
          },
          "execution_count": 68
        }
      ]
    },
    {
      "cell_type": "code",
      "metadata": {
        "colab": {
          "base_uri": "https://localhost:8080/"
        },
        "id": "tFGiIBXbalTw",
        "outputId": "3d85eeaa-8faa-4144-b3ec-bd448ade972d"
      },
      "source": [
        "state_documented_infectious"
      ],
      "execution_count": 69,
      "outputs": [
        {
          "output_type": "execute_result",
          "data": {
            "text/plain": [
              "array([1174.8751 ,  228.3603 ,  148.48517,  958.43945, 2021.0945 ,\n",
              "        265.01614,  334.3963 ], dtype=float32)"
            ]
          },
          "metadata": {
            "tags": []
          },
          "execution_count": 69
        }
      ]
    },
    {
      "cell_type": "markdown",
      "metadata": {
        "id": "zQyyXZqoWCgz"
      },
      "source": [
        "## Experiment 1\n",
        "#### Directly calling `sample_state_deltas`"
      ]
    },
    {
      "cell_type": "code",
      "metadata": {
        "id": "vfeJq92iWCgz"
      },
      "source": [
        "all_days = []\n",
        "curr_state = model_state\n",
        "daily_infectious_counts = []\n",
        "daily_new_infectious_delta = []\n",
        "\n",
        "for i in range(30):\n",
        "    next_state_delta = sample_state_deltas(curr_state, initial_population, val_mobility_matrix_over_time[:,:,i], model_params, 0)\n",
        "    next_state = SEIRComponents(\n",
        "        susceptible=np.array(curr_state.susceptible) + np.array(next_state_delta.susceptible),\n",
        "        exposed=np.array(curr_state.exposed) + np.array(next_state_delta.exposed),\n",
        "        documented_infectious=np.array(curr_state.documented_infectious) + np.array(next_state_delta.documented_infectious),\n",
        "        daily_new_documented_infectious=np.array(curr_state.daily_new_documented_infectious) + np.array(next_state_delta.daily_new_documented_infectious),\n",
        "        undocumented_infectious=np.array(curr_state.undocumented_infectious) + np.array(next_state_delta.undocumented_infectious)\n",
        "    )\n",
        "\n",
        "    daily_infectious_counts.append(next_state_delta.documented_infectious)\n",
        "    daily_new_infectious_delta.append(next_state_delta.daily_new_documented_infectious)\n",
        "    \n",
        "    all_days.append(next_state)\n",
        "    curr_state = next_state"
      ],
      "execution_count": 70,
      "outputs": []
    },
    {
      "cell_type": "code",
      "metadata": {
        "colab": {
          "base_uri": "https://localhost:8080/",
          "height": 804
        },
        "id": "Kc_-QUZuWCg0",
        "outputId": "03145dae-c80e-436e-9973-cb1b9621febc"
      },
      "source": [
        "fig, axs = plt.subplots(3, 3, figsize=(20,12))\n",
        "x_obs = np.array(range(1,181))\n",
        "x_val = np.array(range(150, 180))\n",
        "\n",
        "axs[0, 0].plot(x_val, np.array(daily_new_infectious_delta)[:, 0], label='Predicted')\n",
        "axs[0, 0].plot(x_obs, val_observed_daily_infectious_count[0, :], label='Observed')\n",
        "axs[0, 0].set_title('Bagmati observed vs predicted')\n",
        "\n",
        "axs[0, 1].plot(x_val, np.array(daily_new_infectious_delta)[:, 1], label='Predicted')\n",
        "axs[0, 1].plot(x_obs, val_observed_daily_infectious_count[1, :], label='Observed')\n",
        "axs[0, 1].set_title('Gandaki observed vs predicted')\n",
        "\n",
        "axs[0, 2].plot(x_val, np.array(daily_new_infectious_delta)[:, 2], label='Predicted')\n",
        "axs[0, 2].plot(x_obs, val_observed_daily_infectious_count[2, :], label='Observed')\n",
        "axs[0, 2].set_title('Karnali observed vs predicted')\n",
        "\n",
        "axs[1, 0].plot(x_val, np.array(daily_new_infectious_delta)[:, 3], label='Predicted')\n",
        "axs[1, 0].plot(x_obs, val_observed_daily_infectious_count[3, :], label='Observed')\n",
        "axs[1, 0].set_title('Lumbini observed vs predicted')\n",
        "\n",
        "axs[1, 1].plot(x_val, np.array(daily_new_infectious_delta)[:, 4], label='Predicted')\n",
        "axs[1, 1].plot(x_obs, val_observed_daily_infectious_count[4, :], label='Observed')\n",
        "axs[1, 1].set_title('Province 1 observed vs predicted')\n",
        "\n",
        "axs[1, 2].plot(x_val, np.array(daily_new_infectious_delta)[:, 5], label='Predicted')\n",
        "axs[1, 2].plot(x_obs, val_observed_daily_infectious_count[5, :], label='Observed')\n",
        "axs[1, 2].set_title('Province 2 observed vs predicted')\n",
        "\n",
        "axs[2, 0].plot(x_val, np.array(daily_new_infectious_delta)[:, 6], label='Predicted')\n",
        "axs[2, 0].plot(x_obs, val_observed_daily_infectious_count[6, :], label='Observed')\n",
        "axs[2, 0].set_title('Sudurpaschim observed vs predicted')\n",
        "\n",
        "lines = []\n",
        "labels = []\n",
        "\n",
        "for ax in fig.axes[:1]:\n",
        "    axLine, axLabel = ax.get_legend_handles_labels()\n",
        "    lines.extend(axLine)\n",
        "    labels.extend(axLabel)\n",
        "\n",
        "fig.legend(lines, labels, loc = 'center right')\n",
        "fig.suptitle('Comparision between observed and predicted daily new cases', fontsize=20)"
      ],
      "execution_count": 71,
      "outputs": [
        {
          "output_type": "execute_result",
          "data": {
            "text/plain": [
              "Text(0.5, 0.98, 'Comparision between observed and predicted daily new cases')"
            ]
          },
          "metadata": {
            "tags": []
          },
          "execution_count": 71
        },
        {
          "output_type": "display_data",
          "data": {
            "image/png": "[encoded data removed]",
            "text/plain": [
              "<Figure size 1440x864 with 9 Axes>"
            ]
          },
          "metadata": {
            "tags": [],
            "needs_background": "light"
          }
        }
      ]
    },
    {
      "cell_type": "markdown",
      "metadata": {
        "id": "zBDr6o7yWCg0"
      },
      "source": [
        "#### Looks resonable  \n",
        "District Salyan does not have any documented infectious individuals. Let's see what our model says about that."
      ]
    },
    {
      "cell_type": "code",
      "metadata": {
        "colab": {
          "base_uri": "https://localhost:8080/",
          "height": 412
        },
        "id": "HpmsgZA4WCg0",
        "outputId": "0d699e30-58bf-4a73-f98f-7d637f5df9b6"
      },
      "source": [
        "plt.figure(figsize=(20,6))\n",
        "plt.plot(x_val, np.array(daily_new_infectious_delta)[:, 0], label='Predicted')\n",
        "plt.plot(x_obs, val_observed_daily_infectious_count[0, :], label='Observed')\n",
        "plt.title('Bagmati observed vs predicted', fontsize=20)"
      ],
      "execution_count": 72,
      "outputs": [
        {
          "output_type": "execute_result",
          "data": {
            "text/plain": [
              "Text(0.5, 1.0, 'Bagmati observed vs predicted')"
            ]
          },
          "metadata": {
            "tags": []
          },
          "execution_count": 72
        },
        {
          "output_type": "display_data",
          "data": {
            "image/png": "[encoded data removed]",
            "text/plain": [
              "<Figure size 1440x432 with 1 Axes>"
            ]
          },
          "metadata": {
            "tags": [],
            "needs_background": "light"
          }
        }
      ]
    },
    {
      "cell_type": "markdown",
      "metadata": {
        "id": "u5X-D3HpWCg1"
      },
      "source": [
        "Not bad."
      ]
    },
    {
      "cell_type": "markdown",
      "metadata": {
        "id": "3BkfYCJHWCg1"
      },
      "source": [
        "## Experiment 2\n",
        "#### Do not just take mean of the ensembles. Plot their standard deviations as well"
      ]
    },
    {
      "cell_type": "code",
      "metadata": {
        "id": "VY81uIl8WCg1"
      },
      "source": [
        "state_susceptible_with_std = np.mean(eakf_state.particles.state.susceptible, axis=1)\n",
        "state_exposed_with_std = np.mean(eakf_state.particles.state.exposed, axis=1)\n",
        "state_daily_new_documented_infectious_with_std = np.mean(eakf_state.particles.state.daily_new_documented_infectious, axis=1)\n",
        "state_documented_infectious_with_std = np.mean(eakf_state.particles.state.documented_infectious, axis=1)\n",
        "state_undocumented_infectious_with_std = np.mean(eakf_state.particles.state.undocumented_infectious, axis=1)\n",
        "\n",
        "model_state_with_std = SEIRComponents(\n",
        "    susceptible=state_susceptible_with_std,\n",
        "    exposed=state_exposed_with_std,\n",
        "    daily_new_documented_infectious=state_daily_new_documented_infectious_with_std,\n",
        "    documented_infectious=state_documented_infectious_with_std,\n",
        "    undocumented_infectious=state_undocumented_infectious_with_std\n",
        ")"
      ],
      "execution_count": 73,
      "outputs": []
    },
    {
      "cell_type": "code",
      "metadata": {
        "colab": {
          "base_uri": "https://localhost:8080/"
        },
        "id": "Q5Zu7i-bWCg1",
        "outputId": "d855dc8d-bf84-4d9a-8add-51b83cc4fca3"
      },
      "source": [
        "model_state_with_std.susceptible.shape"
      ],
      "execution_count": 74,
      "outputs": [
        {
          "output_type": "execute_result",
          "data": {
            "text/plain": [
              "(300, 7)"
            ]
          },
          "metadata": {
            "tags": []
          },
          "execution_count": 74
        }
      ]
    },
    {
      "cell_type": "code",
      "metadata": {
        "id": "UMpTGcvWWCg1"
      },
      "source": [
        "t_all_days = []\n",
        "t_curr_state = model_state_with_std\n",
        "t_daily_infectious_counts = []\n",
        "t_daily_new_infectious_delta = []\n",
        "t_undocumented_infectious = []\n",
        "\n",
        "for i in range(30):\n",
        "    t_next_state_delta = sample_state_deltas(t_curr_state, initial_population, val_mobility_matrix_over_time[:,:,i], model_params, 0)\n",
        "    t_next_state = SEIRComponents(\n",
        "        susceptible=np.array(t_curr_state.susceptible) + np.array(t_next_state_delta.susceptible),\n",
        "        exposed=np.array(t_curr_state.exposed) + np.array(t_next_state_delta.exposed),\n",
        "        documented_infectious=np.array(t_curr_state.documented_infectious) + np.array(t_next_state_delta.documented_infectious),\n",
        "        daily_new_documented_infectious=np.array(t_curr_state.daily_new_documented_infectious) + np.array(t_next_state_delta.daily_new_documented_infectious),\n",
        "        undocumented_infectious=np.array(t_curr_state.undocumented_infectious) + np.array(t_next_state_delta.undocumented_infectious)\n",
        "    )\n",
        "\n",
        "    t_daily_infectious_counts.append(t_next_state_delta.documented_infectious)\n",
        "    t_daily_new_infectious_delta.append(t_next_state_delta.daily_new_documented_infectious)\n",
        "    t_undocumented_infectious.append(t_next_state_delta.undocumented_infectious)\n",
        "    \n",
        "    t_all_days.append(t_next_state)\n",
        "    t_curr_state = t_next_state"
      ],
      "execution_count": 75,
      "outputs": []
    },
    {
      "cell_type": "code",
      "metadata": {
        "id": "4xiqKmg9WCg1"
      },
      "source": [
        "t_daily_new_infectious_delta = np.array(t_daily_new_infectious_delta)\n",
        "t_undocumented_infectious = np.array(t_undocumented_infectious)"
      ],
      "execution_count": 76,
      "outputs": []
    },
    {
      "cell_type": "code",
      "metadata": {
        "colab": {
          "base_uri": "https://localhost:8080/"
        },
        "id": "nZox6h8_WCg2",
        "outputId": "087b9c8a-bfdf-4fea-9782-0ca6a47fa8ac"
      },
      "source": [
        "t_daily_new_infectious_delta.shape"
      ],
      "execution_count": 77,
      "outputs": [
        {
          "output_type": "execute_result",
          "data": {
            "text/plain": [
              "(30, 300, 7)"
            ]
          },
          "metadata": {
            "tags": []
          },
          "execution_count": 77
        }
      ]
    },
    {
      "cell_type": "code",
      "metadata": {
        "colab": {
          "base_uri": "https://localhost:8080/"
        },
        "id": "DwlZynLTWCg2",
        "outputId": "acd203b6-06fd-4b53-9ed6-1eb5f4028659"
      },
      "source": [
        "d_mean = np.mean(t_daily_new_infectious_delta, axis=1).round()\n",
        "d_std = np.std(t_daily_new_infectious_delta, axis=1).round()\n",
        "d_upper = d_mean + d_std\n",
        "d_lower = d_mean - d_std\n",
        "\n",
        "# make sure lower bounds do not go below 0\n",
        "d_lower = np.vectorize(lambda x: x if x >=0 else 0)(d_lower)\n",
        "d_mean.shape"
      ],
      "execution_count": 78,
      "outputs": [
        {
          "output_type": "execute_result",
          "data": {
            "text/plain": [
              "(30, 7)"
            ]
          },
          "metadata": {
            "tags": []
          },
          "execution_count": 78
        }
      ]
    },
    {
      "cell_type": "code",
      "metadata": {
        "colab": {
          "base_uri": "https://localhost:8080/",
          "height": 579
        },
        "id": "2rd6DuAdWCg2",
        "outputId": "09cb3132-5b56-4e48-907e-0d5d75735977"
      },
      "source": [
        "fig, axs = plt.subplots(3, 3, figsize=(30,12))\n",
        "\n",
        "axs[0, 0].plot(x_val, d_mean[:, 0], label='Predicted')\n",
        "axs[0, 0].plot(x_obs, val_observed_daily_infectious_count[0, :], label='Observed')\n",
        "axs[0, 0].fill_between(np.arange(150,180,1), d_upper[:, 0], d_lower[:, 0], alpha=0.2)\n",
        "axs[0, 0].set_title('Bagmati observed vs predicted')\n",
        "\n",
        "axs[0, 1].plot(x_val, d_mean[:, 1], label='Predicted')\n",
        "axs[0, 1].plot(x_obs, val_observed_daily_infectious_count[1, :], label='Observed')\n",
        "axs[0, 1].fill_between(np.arange(150,180,1), d_upper[:, 1], d_lower[:, 1], alpha=0.2)\n",
        "axs[0, 1].set_title('Gandaki observed vs predicted')\n",
        "\n",
        "axs[0, 2].plot(x_val, d_mean[:, 2], label='Predicted')\n",
        "axs[0, 2].plot(x_obs, val_observed_daily_infectious_count[2, :], label='Observed')\n",
        "axs[0, 2].fill_between(np.arange(150,180,1), d_upper[:, 2], d_lower[:, 2], alpha=0.2)\n",
        "axs[0, 2].set_title('Lumbini observed vs predicted')\n",
        "\n",
        "axs[1, 0].plot(x_val, d_mean[:, 3], label='Predicted')\n",
        "axs[1, 0].plot(x_obs, val_observed_daily_infectious_count[3, :], label='Observed')\n",
        "axs[1, 0].fill_between(np.arange(150,180,1), d_upper[:, 3], d_lower[:, 3], alpha=0.2)\n",
        "axs[1, 0].set_title('Karnali observed vs predicted')\n",
        "\n",
        "axs[1, 1].plot(x_val, d_mean[:, 4], label='Predicted')\n",
        "axs[1, 1].plot(x_obs, val_observed_daily_infectious_count[4, :], label='Observed')\n",
        "axs[1, 1].fill_between(np.arange(150,180,1), d_upper[:, 4], d_lower[:, 4], alpha=0.2)\n",
        "axs[1, 1].set_title('Province 1 observed vs predicted')\n",
        "\n",
        "axs[1, 2].plot(x_val, d_mean[:, 5], label='Predicted')\n",
        "axs[1, 2].plot(x_obs, val_observed_daily_infectious_count[5, :], label='Observed')\n",
        "axs[1, 2].fill_between(np.arange(150,180,1), d_upper[:, 5], d_lower[:, 5], alpha=0.2)\n",
        "axs[1, 2].set_title('Province 2 observed vs predicted')\n",
        "\n",
        "axs[2, 0].plot(x_val, d_mean[:, 6], label='Predicted')\n",
        "axs[2, 0].plot(x_obs, val_observed_daily_infectious_count[6, :], label='Observed')\n",
        "axs[2, 0].fill_between(np.arange(150,180,1), d_upper[:, 6], d_lower[:, 6], alpha=0.2)\n",
        "axs[2, 0].set_title('Sudurpaschim observed vs predicted')\n",
        "\n",
        "lines = []\n",
        "labels = []\n",
        "\n",
        "for ax in fig.axes[:1]:\n",
        "    axLine, axLabel = ax.get_legend_handles_labels()\n",
        "    lines.extend(axLine)\n",
        "    labels.extend(axLabel)\n",
        "\n",
        "fig.legend(lines, labels, loc = 'center right')\n",
        "fig.suptitle('Comparision between observed and predicted daily new cases', fontsize=20)\n",
        "\n",
        "fig.savefig('obs-vs-pred-new-cases.jpg')"
      ],
      "execution_count": 79,
      "outputs": [
        {
          "output_type": "display_data",
          "data": {
            "image/png": "[encoded data removed]",
            "text/plain": [
              "<Figure size 2160x864 with 9 Axes>"
            ]
          },
          "metadata": {
            "tags": [],
            "needs_background": "light"
          }
        }
      ]
    },
    {
      "cell_type": "markdown",
      "metadata": {
        "id": "F5F2N9CtWCg2"
      },
      "source": [
        "## Experiment 3\n",
        "#### Plot documented and undocumented infectious numbers"
      ]
    },
    {
      "cell_type": "code",
      "metadata": {
        "colab": {
          "base_uri": "https://localhost:8080/"
        },
        "id": "HBT5vqKpWCg3",
        "outputId": "830588fc-796d-42e1-9d2a-6da828fcdd44"
      },
      "source": [
        "ud_infectious_mean = np.mean(t_undocumented_infectious, axis=1)\n",
        "ud_infectious_mean.shape"
      ],
      "execution_count": 80,
      "outputs": [
        {
          "output_type": "execute_result",
          "data": {
            "text/plain": [
              "(30, 7)"
            ]
          },
          "metadata": {
            "tags": []
          },
          "execution_count": 80
        }
      ]
    },
    {
      "cell_type": "code",
      "metadata": {
        "colab": {
          "base_uri": "https://localhost:8080/",
          "height": 873
        },
        "id": "VEORXx9-WCg3",
        "outputId": "2d9f90f2-eeea-40e9-a058-1dbf9e7daf95"
      },
      "source": [
        "fig, axs = plt.subplots(3, 3, figsize=(20,12))\n",
        "\n",
        "axs[0, 0].plot(ud_infectious_mean[:,0], label='Predicted undocumented Infectious')\n",
        "axs[0, 0].plot(val_observed_daily_infectious_count[0, :], label='Observed documented Infectious')\n",
        "axs[0, 0].set_title('Bagmati predicted undocumented vs documented infectious')\n",
        "\n",
        "axs[0, 1].plot(ud_infectious_mean[:,1], label='Predicted undocumented Infectious')\n",
        "axs[0, 1].plot(val_observed_daily_infectious_count[1, :], label='Observed documented Infectious')\n",
        "axs[0, 1].set_title('Gandaki predicted undocumented vs documented infectious')\n",
        "\n",
        "axs[0, 2].plot(ud_infectious_mean[:,2], label='Predicted undocumented Infectious')\n",
        "axs[0, 2].plot(val_observed_daily_infectious_count[2, :], label='Observed documented Infectious')\n",
        "axs[0, 2].set_title('Lumbini predicted undocumented vs documented infectious')\n",
        "\n",
        "axs[1, 0].plot(ud_infectious_mean[:,3], label='Predicted undocumented Infectious')\n",
        "axs[1, 0].plot(val_observed_daily_infectious_count[3, :], label='Observed documented Infectious')\n",
        "axs[1, 0].set_title('Karnali predicted undocumented vs documented infectious')\n",
        "\n",
        "axs[1, 1].plot(ud_infectious_mean[:,4], label='Predicted undocumented Infectious')\n",
        "axs[1, 1].plot(val_observed_daily_infectious_count[4, :], label='Observed documented Infectious')\n",
        "axs[1, 1].set_title('Province 1 predicted undocumented vs documented infectious')\n",
        "\n",
        "axs[1, 2].plot(ud_infectious_mean[:,5], label='Predicted undocumented Infectious')\n",
        "axs[1, 2].plot(val_observed_daily_infectious_count[5, :], label='Observed documented Infectious')\n",
        "axs[1, 2].set_title('Province 2 predicted undocumented vs documented infectious')\n",
        "\n",
        "axs[2, 0].plot(ud_infectious_mean[:,6], label='Predicted undocumented Infectious')\n",
        "axs[2, 0].plot(val_observed_daily_infectious_count[6, :], label='Observed documented Infectious')\n",
        "axs[2, 0].set_title('Sudurpaschim predicted undocumented vs documented infectious')\n",
        "\n",
        "lines = []\n",
        "labels = []\n",
        "\n",
        "for ax in fig.axes[:1]:\n",
        "    axLine, axLabel = ax.get_legend_handles_labels()\n",
        "    lines.extend(axLine)\n",
        "    labels.extend(axLabel)\n",
        "\n",
        "fig.legend(lines, labels, loc = 'lower center')\n",
        "fig.suptitle('Comparision between observed documented and predicted undocumented infectious', fontsize=20)\n",
        "\n",
        "fig.savefig('obs-documented-vs-pred-undocumented-cases.jpg')"
      ],
      "execution_count": 81,
      "outputs": [
        {
          "output_type": "display_data",
          "data": {
            "image/png": "[encoded data removed]",
            "text/plain": [
              "<Figure size 1440x864 with 9 Axes>"
            ]
          },
          "metadata": {
            "tags": [],
            "needs_background": "light"
          }
        }
      ]
    }
  ]
}